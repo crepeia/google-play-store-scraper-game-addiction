{
 "cells": [
  {
   "cell_type": "code",
   "execution_count": 1,
   "metadata": {},
   "outputs": [],
   "source": [
    "import pandas as pd\n",
    "import re"
   ]
  },
  {
   "cell_type": "code",
   "execution_count": 2,
   "metadata": {},
   "outputs": [
    {
     "name": "stdout",
     "output_type": "stream",
     "text": [
      "<class 'pandas.core.frame.DataFrame'>\n",
      "RangeIndex: 14000 entries, 0 to 13999\n",
      "Data columns (total 11 columns):\n",
      " #   Column                Non-Null Count  Dtype  \n",
      "---  ------                --------------  -----  \n",
      " 0   Unnamed: 0            14000 non-null  int64  \n",
      " 1   Unnamed: 0.1          14000 non-null  int64  \n",
      " 2   userName              14000 non-null  object \n",
      " 3   userImage             14000 non-null  object \n",
      " 4   content               14000 non-null  object \n",
      " 5   score                 14000 non-null  int64  \n",
      " 6   thumbsUpCount         14000 non-null  int64  \n",
      " 7   reviewCreatedVersion  13002 non-null  object \n",
      " 8   at                    14000 non-null  object \n",
      " 9   file_origin           14000 non-null  object \n",
      " 10  app_id                0 non-null      float64\n",
      "dtypes: float64(1), int64(4), object(6)\n",
      "memory usage: 1.2+ MB\n"
     ]
    }
   ],
   "source": [
    "df = pd.read_csv('/home/henriquegomide/Downloads/most_relevant_comments.csv')\n",
    "df.info()"
   ]
  },
  {
   "cell_type": "code",
   "execution_count": 3,
   "metadata": {},
   "outputs": [
    {
     "data": {
      "text/plain": [
       "0        o jogo está ficando cada vez mais mercenário, ...\n",
       "1        a cada atualização (mensal), o jogo fica mais ...\n",
       "2        não são dignos de ganhar nem 1 estrela, jogo d...\n",
       "3        os desenvolvedores não jogam o jogo, não ouvem...\n",
       "4        tudo agora nesse jogo e monetizar , tava muito...\n",
       "                               ...                        \n",
       "13995    o jogo é muito bom , mais eu acho que poderia ...\n",
       "13996    odiei esse jogo é muito ruim o dinheiro que vo...\n",
       "13997    é bom sim , só que , tem vezes que não pega a ...\n",
       "13998    muito bom . precisa de bastante concentração. ...\n",
       "13999                   eu do um toque no celular e da ads\n",
       "Name: content, Length: 14000, dtype: object"
      ]
     },
     "execution_count": 3,
     "metadata": {},
     "output_type": "execute_result"
    }
   ],
   "source": [
    "# Convert to lowercase\n",
    "df['content'] = df['content'].apply(lambda x: \" \".join(x.lower() for x in x.split()))\n",
    "df['content']"
   ]
  },
  {
   "cell_type": "code",
   "execution_count": 4,
   "metadata": {},
   "outputs": [
    {
     "data": {
      "text/plain": [
       "0        o jogo está ficando cada vez mais mercenário a...\n",
       "1        a cada atualização mensal o jogo fica mais p2w...\n",
       "2        não são dignos de ganhar nem 1 estrela jogo de...\n",
       "3        os desenvolvedores não jogam o jogo não ouvem ...\n",
       "4        tudo agora nesse jogo e monetizar  tava muito ...\n",
       "                               ...                        \n",
       "13995    o jogo é muito bom  mais eu acho que poderia t...\n",
       "13996    odiei esse jogo é muito ruim o dinheiro que vo...\n",
       "13997    é bom sim  só que  tem vezes que não pega a jo...\n",
       "13998    muito bom  precisa de bastante concentração aj...\n",
       "13999                   eu do um toque no celular e da ads\n",
       "Name: content, Length: 14000, dtype: object"
      ]
     },
     "execution_count": 4,
     "metadata": {},
     "output_type": "execute_result"
    }
   ],
   "source": [
    "# Remove punctuation\n",
    "df['content'] = df['content'].str.replace('[^\\w\\s]', \"\")\n",
    "df['content']"
   ]
  },
  {
   "cell_type": "code",
   "execution_count": 5,
   "metadata": {},
   "outputs": [
    {
     "name": "stderr",
     "output_type": "stream",
     "text": [
      "[nltk_data] Downloading package stopwords to\n",
      "[nltk_data]     /home/henriquegomide/nltk_data...\n",
      "[nltk_data]   Package stopwords is already up-to-date!\n"
     ]
    }
   ],
   "source": [
    "# Remove Stopwords\n",
    "import nltk\n",
    "nltk.download('stopwords')\n",
    "from nltk.corpus import stopwords\n",
    "stop = stopwords.words('portuguese')"
   ]
  },
  {
   "cell_type": "code",
   "execution_count": 6,
   "metadata": {},
   "outputs": [],
   "source": [
    "df['content'] = df['content'].apply(lambda x: \" \".join(x for x in x.split() if x not in stop))"
   ]
  },
  {
   "cell_type": "code",
   "execution_count": 7,
   "metadata": {},
   "outputs": [
    {
     "data": {
      "text/plain": [
       "0        jogo ficando cada vez mercenário ainda vinda d...\n",
       "1        cada atualização mensal jogo fica p2w obrigado...\n",
       "2        dignos ganhar 1 estrela jogo desde lançamento ...\n",
       "3        desenvolvedores jogam jogo ouvem críticas star...\n",
       "4        tudo agora nesse jogo monetizar tava bom começ...\n",
       "                               ...                        \n",
       "13995    jogo bom acho poderia menos anúncios pq fica t...\n",
       "13996    odiei jogo ruim dinheiro ganha dá pra comprar ...\n",
       "13997                      bom sim vezes pega jogabilidade\n",
       "13998     bom precisa bastante concentração ajuda distrair\n",
       "13999                                    toque celular ads\n",
       "Name: content, Length: 14000, dtype: object"
      ]
     },
     "execution_count": 7,
     "metadata": {},
     "output_type": "execute_result"
    }
   ],
   "source": [
    "df['content']"
   ]
  },
  {
   "cell_type": "code",
   "execution_count": 39,
   "metadata": {},
   "outputs": [
    {
     "data": {
      "text/plain": [
       "False    13340\n",
       "True       660\n",
       "Name: content, dtype: int64"
      ]
     },
     "execution_count": 39,
     "metadata": {},
     "output_type": "execute_result"
    }
   ],
   "source": [
    "# Selecionar comentários com base em palavras\n",
    "df['content'].str.contains('vici*|viciante|viciad*|vício|víc*').value_counts()"
   ]
  },
  {
   "cell_type": "code",
   "execution_count": 41,
   "metadata": {},
   "outputs": [],
   "source": [
    "data = df[df['content'].str.contains('vici*|viciante|viciad*|vício|víc*')]"
   ]
  },
  {
   "cell_type": "code",
   "execution_count": 62,
   "metadata": {},
   "outputs": [],
   "source": [
    "data.iloc[:, 2:8].to_csv('/home/henriquegomide/github_repos/google-play-store-scraper-game-addiction/var/data/data_with_viciante_keywords.csv')"
   ]
  }
 ],
 "metadata": {
  "kernelspec": {
   "display_name": "Python 3",
   "language": "python",
   "name": "python3"
  },
  "language_info": {
   "codemirror_mode": {
    "name": "ipython",
    "version": 3
   },
   "file_extension": ".py",
   "mimetype": "text/x-python",
   "name": "python",
   "nbconvert_exporter": "python",
   "pygments_lexer": "ipython3",
   "version": "3.6.9"
  }
 },
 "nbformat": 4,
 "nbformat_minor": 4
}
