{
 "cells": [
  {
   "cell_type": "code",
   "execution_count": 2,
   "metadata": {},
   "outputs": [],
   "source": [
    "import pandas as pd\n",
    "import re"
   ]
  },
  {
   "cell_type": "code",
   "execution_count": 5,
   "metadata": {},
   "outputs": [
    {
     "name": "stdout",
     "output_type": "stream",
     "text": [
      "<class 'pandas.core.frame.DataFrame'>\n",
      "RangeIndex: 28000 entries, 0 to 27999\n",
      "Data columns (total 11 columns):\n",
      " #   Column                Non-Null Count  Dtype  \n",
      "---  ------                --------------  -----  \n",
      " 0   Unnamed: 0            28000 non-null  int64  \n",
      " 1   Unnamed: 0.1          28000 non-null  int64  \n",
      " 2   userName              28000 non-null  object \n",
      " 3   userImage             28000 non-null  object \n",
      " 4   content               27996 non-null  object \n",
      " 5   score                 28000 non-null  int64  \n",
      " 6   thumbsUpCount         28000 non-null  int64  \n",
      " 7   reviewCreatedVersion  25118 non-null  object \n",
      " 8   at                    28000 non-null  object \n",
      " 9   file_origin           28000 non-null  object \n",
      " 10  app_id                0 non-null      float64\n",
      "dtypes: float64(1), int64(4), object(6)\n",
      "memory usage: 2.3+ MB\n"
     ]
    }
   ],
   "source": [
    "df = pd.read_csv('/home/henriquegomide/Downloads/most_relevant_comments.csv', index_col=None)\n",
    "df.info()"
   ]
  },
  {
   "cell_type": "code",
   "execution_count": 11,
   "metadata": {},
   "outputs": [
    {
     "ename": "AttributeError",
     "evalue": "'str' object has no attribute 'apply'",
     "output_type": "error",
     "traceback": [
      "\u001b[0;31m---------------------------------------------------------------------------\u001b[0m",
      "\u001b[0;31mAttributeError\u001b[0m                            Traceback (most recent call last)",
      "\u001b[0;32m<ipython-input-11-e177f504e0ad>\u001b[0m in \u001b[0;36m<module>\u001b[0;34m\u001b[0m\n\u001b[1;32m      1\u001b[0m \u001b[0;31m# Convert to lowercase\u001b[0m\u001b[0;34m\u001b[0m\u001b[0;34m\u001b[0m\u001b[0;34m\u001b[0m\u001b[0m\n\u001b[1;32m      2\u001b[0m \u001b[0;31m#df['content_p'] = df['content'].apply(lambda x: \" \".join(x.lower() for x in x.split()))\u001b[0m\u001b[0;34m\u001b[0m\u001b[0;34m\u001b[0m\u001b[0;34m\u001b[0m\u001b[0m\n\u001b[0;32m----> 3\u001b[0;31m \u001b[0mdf\u001b[0m\u001b[0;34m[\u001b[0m\u001b[0;34m'content'\u001b[0m\u001b[0;34m]\u001b[0m\u001b[0;34m[\u001b[0m\u001b[0;36m0\u001b[0m\u001b[0;34m]\u001b[0m\u001b[0;34m.\u001b[0m\u001b[0mapply\u001b[0m\u001b[0;34m(\u001b[0m\u001b[0;32mlambda\u001b[0m \u001b[0mx\u001b[0m\u001b[0;34m:\u001b[0m \u001b[0;34m\" \"\u001b[0m\u001b[0;34m.\u001b[0m\u001b[0mjoin\u001b[0m\u001b[0;34m(\u001b[0m\u001b[0mx\u001b[0m\u001b[0;34m.\u001b[0m\u001b[0mlower\u001b[0m\u001b[0;34m(\u001b[0m\u001b[0;34m)\u001b[0m \u001b[0;32mfor\u001b[0m \u001b[0mx\u001b[0m \u001b[0;32min\u001b[0m \u001b[0mx\u001b[0m\u001b[0;34m.\u001b[0m\u001b[0msplit\u001b[0m\u001b[0;34m(\u001b[0m\u001b[0;34m)\u001b[0m\u001b[0;34m)\u001b[0m\u001b[0;34m)\u001b[0m\u001b[0;34m\u001b[0m\u001b[0;34m\u001b[0m\u001b[0m\n\u001b[0m",
      "\u001b[0;31mAttributeError\u001b[0m: 'str' object has no attribute 'apply'"
     ]
    }
   ],
   "source": [
    "# Convert to lowercase\n",
    "#df['content_p'] = df['content'].apply(lambda x: \" \".join(x.lower() for x in x.split()))\n",
    "df['content_p'] = df['content'].apply(lambda x: \" \".join(x.lower() for x in x.split()))"
   ]
  },
  {
   "cell_type": "code",
   "execution_count": 8,
   "metadata": {},
   "outputs": [
    {
     "data": {
      "text/plain": [
       "0        Devs não ligam pros seus jogadores Praticas e ...\n",
       "1        Melhor jogo ligado a marvel Atualiza muito ráp...\n",
       "2        O jogo precisa de melhorias urgentes Acompanho...\n",
       "3        A graça do jogo é vc jogar e adquirir as recom...\n",
       "4        Por que a batalha temporal tá com uma injustiç...\n",
       "                               ...                        \n",
       "27995    Caras esse sim e um bom jogo eu jogando esse f...\n",
       "27996    Este jogo me deixou feliz pq eu zerei então oq...\n",
       "27997    Já passei de todas as frases muito legal recom...\n",
       "27998    Musica exelente graficos simples mas fixes jog...\n",
       "27999    Acompanho esse jogo desde o inicio ja zerei to...\n",
       "Name: content, Length: 28000, dtype: object"
      ]
     },
     "execution_count": 8,
     "metadata": {},
     "output_type": "execute_result"
    }
   ],
   "source": [
    "# Remove punctuation\n",
    "df['content'] = df['content'].str.replace('[^\\w\\s]', \"\")\n",
    "df['content']"
   ]
  },
  {
   "cell_type": "code",
   "execution_count": 5,
   "metadata": {},
   "outputs": [],
   "source": [
    "# Remove Stopwords\n",
    "import nltk\n",
    "# nltk.download('stopwords')\n",
    "from nltk.corpus import stopwords\n",
    "stop = stopwords.words('portuguese')"
   ]
  },
  {
   "cell_type": "code",
   "execution_count": 6,
   "metadata": {},
   "outputs": [],
   "source": [
    "df['content'] = df['content'].apply(lambda x: \" \".join(x for x in x.split() if x not in stop))"
   ]
  },
  {
   "cell_type": "code",
   "execution_count": 7,
   "metadata": {},
   "outputs": [
    {
     "data": {
      "text/plain": [
       "0        jogo ficando cada vez mercenário ainda vinda d...\n",
       "1        cada atualização mensal jogo fica p2w obrigado...\n",
       "2        dignos ganhar 1 estrela jogo desde lançamento ...\n",
       "3        desenvolvedores jogam jogo ouvem críticas star...\n",
       "4        tudo agora nesse jogo monetizar tava bom começ...\n",
       "                               ...                        \n",
       "13995    jogo bom acho poderia menos anúncios pq fica t...\n",
       "13996    odiei jogo ruim dinheiro ganha dá pra comprar ...\n",
       "13997                      bom sim vezes pega jogabilidade\n",
       "13998     bom precisa bastante concentração ajuda distrair\n",
       "13999                                    toque celular ads\n",
       "Name: content, Length: 14000, dtype: object"
      ]
     },
     "execution_count": 7,
     "metadata": {},
     "output_type": "execute_result"
    }
   ],
   "source": [
    "df['content']"
   ]
  },
  {
   "cell_type": "code",
   "execution_count": 8,
   "metadata": {},
   "outputs": [],
   "source": [
    "# Spell check\n",
    "from spellchecker import SpellChecker\n",
    "spell = SpellChecker(language='pt')"
   ]
  },
  {
   "cell_type": "code",
   "execution_count": 1,
   "metadata": {},
   "outputs": [],
   "source": [
    "# It takes ages to run line below\n",
    "# df['content'] = df['content'].apply(lambda x: \" \".join(spell.correction(x) for x in x.split()))"
   ]
  },
  {
   "cell_type": "code",
   "execution_count": 8,
   "metadata": {},
   "outputs": [
    {
     "data": {
      "text/plain": [
       "False    13340\n",
       "True       660\n",
       "Name: content, dtype: int64"
      ]
     },
     "execution_count": 8,
     "metadata": {},
     "output_type": "execute_result"
    }
   ],
   "source": [
    "# Selecionar comentários com base em palavras\n",
    "df['content'].str.contains('vici*|viciante|viciad*|vício|víc*').value_counts()"
   ]
  },
  {
   "cell_type": "code",
   "execution_count": 9,
   "metadata": {},
   "outputs": [],
   "source": [
    "data = df[df['content'].str.contains('vici*|viciante|viciad*|vício|víc*')]"
   ]
  },
  {
   "cell_type": "code",
   "execution_count": 10,
   "metadata": {},
   "outputs": [],
   "source": [
    "data.iloc[:, 2:8].to_csv('/home/henriquegomide/github_repos/google-play-store-scraper-game-addiction/var/data/data_with_viciante_keywords.csv')"
   ]
  },
  {
   "cell_type": "code",
   "execution_count": null,
   "metadata": {},
   "outputs": [],
   "source": []
  }
 ],
 "metadata": {
  "kernelspec": {
   "display_name": "Python 3",
   "language": "python",
   "name": "python3"
  },
  "language_info": {
   "codemirror_mode": {
    "name": "ipython",
    "version": 3
   },
   "file_extension": ".py",
   "mimetype": "text/x-python",
   "name": "python",
   "nbconvert_exporter": "python",
   "pygments_lexer": "ipython3",
   "version": "3.8.2"
  }
 },
 "nbformat": 4,
 "nbformat_minor": 4
}
