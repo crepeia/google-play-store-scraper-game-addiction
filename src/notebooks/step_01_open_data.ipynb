{
 "cells": [
  {
   "cell_type": "code",
   "execution_count": 4,
   "metadata": {},
   "outputs": [],
   "source": [
    "import glob\n",
    "import pandas as pd\n",
    "import re\n",
    "import os\n",
    "\n",
    "def create_list_of_app_ids():\n",
    "    path = '../../var/data/'\n",
    "    files = glob.glob(path + '/*.csv')\n",
    "    files_list = []\n",
    "    for filename in files:\n",
    "        df = pd.read_csv(filename, index_col=None, header=0)\n",
    "        files_list.append(df)\n",
    "        \n",
    "    data = pd.concat(files_list, axis=0, ignore_index=True)\n",
    "    return(data)"
   ]
  },
  {
   "cell_type": "code",
   "execution_count": 5,
   "metadata": {},
   "outputs": [],
   "source": [
    "# Description of APP's\n",
    "data = create_list_of_app_ids()"
   ]
  },
  {
   "cell_type": "code",
   "execution_count": 6,
   "metadata": {},
   "outputs": [
    {
     "data": {
      "text/html": [
       "<div>\n",
       "<style scoped>\n",
       "    .dataframe tbody tr th:only-of-type {\n",
       "        vertical-align: middle;\n",
       "    }\n",
       "\n",
       "    .dataframe tbody tr th {\n",
       "        vertical-align: top;\n",
       "    }\n",
       "\n",
       "    .dataframe thead th {\n",
       "        text-align: right;\n",
       "    }\n",
       "</style>\n",
       "<table border=\"1\" class=\"dataframe\">\n",
       "  <thead>\n",
       "    <tr style=\"text-align: right;\">\n",
       "      <th></th>\n",
       "      <th>Unnamed: 0</th>\n",
       "      <th>rank</th>\n",
       "      <th>title</th>\n",
       "      <th>icon</th>\n",
       "      <th>↓Total ratings</th>\n",
       "      <th>Installs</th>\n",
       "      <th>Average rating</th>\n",
       "      <th>Growth (30 days)</th>\n",
       "      <th>Growth (60 days)</th>\n",
       "      <th>Price</th>\n",
       "      <th>app_id</th>\n",
       "      <th>category</th>\n",
       "      <th>userName</th>\n",
       "      <th>userImage</th>\n",
       "      <th>content</th>\n",
       "      <th>score</th>\n",
       "      <th>thumbsUpCount</th>\n",
       "      <th>reviewCreatedVersion</th>\n",
       "    </tr>\n",
       "  </thead>\n",
       "  <tbody>\n",
       "    <tr>\n",
       "      <th>0</th>\n",
       "      <td>0</td>\n",
       "      <td>1.0</td>\n",
       "      <td>MARVEL Future Fight</td>\n",
       "      <td>NaN</td>\n",
       "      <td>2,815,239</td>\n",
       "      <td>50.0 M</td>\n",
       "      <td>4.29</td>\n",
       "      <td>0.3%</td>\n",
       "      <td>0.6%</td>\n",
       "      <td>Free</td>\n",
       "      <td>com.netmarble.mherosgb</td>\n",
       "      <td>GAME_ROLE_PLAYING</td>\n",
       "      <td>NaN</td>\n",
       "      <td>NaN</td>\n",
       "      <td>NaN</td>\n",
       "      <td>NaN</td>\n",
       "      <td>NaN</td>\n",
       "      <td>NaN</td>\n",
       "    </tr>\n",
       "    <tr>\n",
       "      <th>1</th>\n",
       "      <td>1</td>\n",
       "      <td>2.0</td>\n",
       "      <td>Avakin Life - 3D Virtual World</td>\n",
       "      <td>NaN</td>\n",
       "      <td>2,776,895</td>\n",
       "      <td>50.0 M</td>\n",
       "      <td>4.25</td>\n",
       "      <td>1.7%</td>\n",
       "      <td>4.0%</td>\n",
       "      <td>Free</td>\n",
       "      <td>com.lockwoodpublishing.avakinlife</td>\n",
       "      <td>GAME_ROLE_PLAYING</td>\n",
       "      <td>NaN</td>\n",
       "      <td>NaN</td>\n",
       "      <td>NaN</td>\n",
       "      <td>NaN</td>\n",
       "      <td>NaN</td>\n",
       "      <td>NaN</td>\n",
       "    </tr>\n",
       "    <tr>\n",
       "      <th>2</th>\n",
       "      <td>2</td>\n",
       "      <td>3.0</td>\n",
       "      <td>Shadow Fight 3</td>\n",
       "      <td>NaN</td>\n",
       "      <td>2,755,053</td>\n",
       "      <td>50.0 M</td>\n",
       "      <td>3.93</td>\n",
       "      <td>1.1%</td>\n",
       "      <td>2.7%</td>\n",
       "      <td>Free</td>\n",
       "      <td>com.nekki.shadowfight3</td>\n",
       "      <td>GAME_ROLE_PLAYING</td>\n",
       "      <td>NaN</td>\n",
       "      <td>NaN</td>\n",
       "      <td>NaN</td>\n",
       "      <td>NaN</td>\n",
       "      <td>NaN</td>\n",
       "      <td>NaN</td>\n",
       "    </tr>\n",
       "    <tr>\n",
       "      <th>3</th>\n",
       "      <td>3</td>\n",
       "      <td>4.0</td>\n",
       "      <td>Angry Birds Epic RPG</td>\n",
       "      <td>NaN</td>\n",
       "      <td>2,654,258</td>\n",
       "      <td>10.0 M</td>\n",
       "      <td>4.55</td>\n",
       "      <td>0.0%</td>\n",
       "      <td>0.0%</td>\n",
       "      <td>Free</td>\n",
       "      <td>com.rovio.gold</td>\n",
       "      <td>GAME_ROLE_PLAYING</td>\n",
       "      <td>NaN</td>\n",
       "      <td>NaN</td>\n",
       "      <td>NaN</td>\n",
       "      <td>NaN</td>\n",
       "      <td>NaN</td>\n",
       "      <td>NaN</td>\n",
       "    </tr>\n",
       "    <tr>\n",
       "      <th>4</th>\n",
       "      <td>4</td>\n",
       "      <td>5.0</td>\n",
       "      <td>Flight Pilot Simulator 3D Free</td>\n",
       "      <td>NaN</td>\n",
       "      <td>2,554,187</td>\n",
       "      <td>100.0 M</td>\n",
       "      <td>4.21</td>\n",
       "      <td>0.6%</td>\n",
       "      <td>1.1%</td>\n",
       "      <td>Free</td>\n",
       "      <td>com.fungames.flightpilot</td>\n",
       "      <td>GAME_ROLE_PLAYING</td>\n",
       "      <td>NaN</td>\n",
       "      <td>NaN</td>\n",
       "      <td>NaN</td>\n",
       "      <td>NaN</td>\n",
       "      <td>NaN</td>\n",
       "      <td>NaN</td>\n",
       "    </tr>\n",
       "  </tbody>\n",
       "</table>\n",
       "</div>"
      ],
      "text/plain": [
       "   Unnamed: 0  rank                           title  icon ↓Total ratings  \\\n",
       "0           0   1.0             MARVEL Future Fight   NaN      2,815,239   \n",
       "1           1   2.0  Avakin Life - 3D Virtual World   NaN      2,776,895   \n",
       "2           2   3.0                  Shadow Fight 3   NaN      2,755,053   \n",
       "3           3   4.0            Angry Birds Epic RPG   NaN      2,654,258   \n",
       "4           4   5.0  Flight Pilot Simulator 3D Free   NaN      2,554,187   \n",
       "\n",
       "  Installs  Average rating Growth (30 days) Growth (60 days) Price  \\\n",
       "0   50.0 M            4.29             0.3%             0.6%  Free   \n",
       "1   50.0 M            4.25             1.7%             4.0%  Free   \n",
       "2   50.0 M            3.93             1.1%             2.7%  Free   \n",
       "3   10.0 M            4.55             0.0%             0.0%  Free   \n",
       "4  100.0 M            4.21             0.6%             1.1%  Free   \n",
       "\n",
       "                              app_id           category userName userImage  \\\n",
       "0             com.netmarble.mherosgb  GAME_ROLE_PLAYING      NaN       NaN   \n",
       "1  com.lockwoodpublishing.avakinlife  GAME_ROLE_PLAYING      NaN       NaN   \n",
       "2             com.nekki.shadowfight3  GAME_ROLE_PLAYING      NaN       NaN   \n",
       "3                     com.rovio.gold  GAME_ROLE_PLAYING      NaN       NaN   \n",
       "4           com.fungames.flightpilot  GAME_ROLE_PLAYING      NaN       NaN   \n",
       "\n",
       "  content  score  thumbsUpCount reviewCreatedVersion  \n",
       "0     NaN    NaN            NaN                  NaN  \n",
       "1     NaN    NaN            NaN                  NaN  \n",
       "2     NaN    NaN            NaN                  NaN  \n",
       "3     NaN    NaN            NaN                  NaN  \n",
       "4     NaN    NaN            NaN                  NaN  "
      ]
     },
     "execution_count": 6,
     "metadata": {},
     "output_type": "execute_result"
    }
   ],
   "source": [
    "data.head()"
   ]
  },
  {
   "cell_type": "code",
   "execution_count": 7,
   "metadata": {},
   "outputs": [],
   "source": [
    "df = data[data['rank'] < 21]\n",
    "list_of_ids = df['app_id']"
   ]
  },
  {
   "cell_type": "code",
   "execution_count": 8,
   "metadata": {},
   "outputs": [],
   "source": [
    "# Open Comments data that were scraped as most relevant\n",
    "list_of_paths = []\n",
    "for app in list_of_ids:\n",
    "    paths = '../../var/data/{0}'.format(app)\n",
    "    list_of_paths.append(paths)\n",
    "    \n",
    "list_of_files = []\n",
    "for path in list_of_paths:\n",
    "    files = glob.glob(path + '/MOST_RELEVANT*.csv')\n",
    "    list_of_files.append(files)\n",
    "    \n",
    "list_of_files = list(filter(None, list_of_files))\n",
    "list_of_files = [y for x in list_of_files for y in x]\n",
    "\n",
    "df_list = []\n",
    "for filename in list_of_files:\n",
    "    df = pd.read_csv(filename, index_col=None, header=0)\n",
    "    df['file_origin'] = filename\n",
    "    df_list.append(df)\n",
    "\n",
    "data = pd.concat(df_list, axis=0, ignore_index=True)"
   ]
  },
  {
   "cell_type": "code",
   "execution_count": 14,
   "metadata": {},
   "outputs": [
    {
     "data": {
      "text/plain": [
       "(33700, 9)"
      ]
     },
     "execution_count": 14,
     "metadata": {},
     "output_type": "execute_result"
    }
   ],
   "source": [
    "data.shape"
   ]
  },
  {
   "cell_type": "code",
   "execution_count": 15,
   "metadata": {},
   "outputs": [
    {
     "data": {
      "text/plain": [
       "['Unnamed: 0',\n",
       " 'userName',\n",
       " 'userImage',\n",
       " 'content',\n",
       " 'score',\n",
       " 'thumbsUpCount',\n",
       " 'reviewCreatedVersion',\n",
       " 'at',\n",
       " 'file_origin']"
      ]
     },
     "execution_count": 15,
     "metadata": {},
     "output_type": "execute_result"
    }
   ],
   "source": [
    "list(data)"
   ]
  },
  {
   "cell_type": "code",
   "execution_count": 16,
   "metadata": {},
   "outputs": [
    {
     "data": {
      "text/plain": [
       "(32900, 9)"
      ]
     },
     "execution_count": 16,
     "metadata": {},
     "output_type": "execute_result"
    }
   ],
   "source": [
    "data.drop_duplicates(['content', 'at']).shape"
   ]
  },
  {
   "cell_type": "code",
   "execution_count": 22,
   "metadata": {},
   "outputs": [],
   "source": [
    "# Get application id\n",
    "data['app_id'] = data['file_origin'].str.extract(pat='../../var/data/(.*)/MOST_RELEVANT.csv')"
   ]
  },
  {
   "cell_type": "code",
   "execution_count": 26,
   "metadata": {},
   "outputs": [],
   "source": [
    "# Create list of unwanted apps\n",
    "list_of_unwanted_apps = [\n",
    "    'com.whatsapp',\n",
    "    'com.instagram.android',\n",
    "    'com.facebook.katana',\n",
    "    'com.google.android.youtube',\n",
    "    'com.facebook.orca',\n",
    "    'com.google.android.gms',\n",
    "    'com.google.android.apps.photos',\n",
    "    'com.zhiliaoapp.musically',\n",
    "    'com.android.chrome',\n",
    "    'com.snapchat.android',\n",
    "    'com.spotify.music'\n",
    "]"
   ]
  },
  {
   "cell_type": "code",
   "execution_count": 30,
   "metadata": {},
   "outputs": [],
   "source": [
    "# Remove apps that are not games\n",
    "data = data[~data['app_id'].isin(list_of_unwanted_apps)].copy()"
   ]
  },
  {
   "cell_type": "code",
   "execution_count": 46,
   "metadata": {},
   "outputs": [
    {
     "data": {
      "text/plain": [
       "0    Devs não ligam pros seus jogadores. Praticas e...\n",
       "1    Melhor jogo ligado a marvel. Atualiza muito rá...\n",
       "2    O jogo precisa de melhorias urgentes! Acompanh...\n",
       "3    A graça do jogo é vc jogar e adquirir as recom...\n",
       "Name: content, dtype: object"
      ]
     },
     "execution_count": 46,
     "metadata": {},
     "output_type": "execute_result"
    }
   ],
   "source": [
    "# Sample of contents\n",
    "data['content'][0:4]"
   ]
  },
  {
   "cell_type": "code",
   "execution_count": 47,
   "metadata": {},
   "outputs": [
    {
     "data": {
      "text/plain": [
       "'Devs não ligam pros seus jogadores. Praticas e praticas pra sugar dinheiro dos jogadores, não tem conteúdo, não somos recompensados adequadamente e por aí vai. A comunidade dá várias dicas (em todos os lugares possíveis), mas os devs não escutam quem fez esse jogo crescer, quem fez esse jogo se tornar o que se tornou, quem investe dinheiro mensalmente em conteúdo e quem se empolga com os diversos updates. (Feito por um grande fã da Marvel e que acredita que esse jogo pode ser melhor).'"
      ]
     },
     "execution_count": 47,
     "metadata": {},
     "output_type": "execute_result"
    }
   ],
   "source": [
    "data['content'][0]"
   ]
  },
  {
   "cell_type": "code",
   "execution_count": 48,
   "metadata": {},
   "outputs": [
    {
     "data": {
      "text/plain": [
       "'Ja joguei uma vez esse jogo faz muito tempo cheguei na fase 250 mas depois parei de jogar e agora volteia jogar por que etendi qual é o lema desse jogo e agora voltei preparado para jogar merece 5 estrelas faz a versão dele so que o terceiro dele como se fosse a sequência do 2'"
      ]
     },
     "execution_count": 48,
     "metadata": {},
     "output_type": "execute_result"
    }
   ],
   "source": [
    "data['content'][1000]"
   ]
  },
  {
   "cell_type": "code",
   "execution_count": 49,
   "metadata": {},
   "outputs": [
    {
     "data": {
      "text/plain": [
       "'Não consigo vincular meu jogo com a conta do Facebook. Ele tenta vincular, mas não consegue. Instalei esse jogo pra chegar no nivel 100 e ganhar diamantes em outro jogo. A única forma de provar meu desempenho é através do Facebook. O jogo é divertido e tal, mas sem o vínculo, que garantia eu tenho que não vou perder meu progresso de uma hora para outra?'"
      ]
     },
     "execution_count": 49,
     "metadata": {},
     "output_type": "execute_result"
    }
   ],
   "source": [
    "data['content'][4000]"
   ]
  },
  {
   "cell_type": "code",
   "execution_count": 50,
   "metadata": {},
   "outputs": [
    {
     "data": {
      "text/plain": [
       "'O jogo é excelente. Permite que a gente avance muito mesmo sem investir dinheiro. Muita gente reclama, mas tendo internet e um pouco de paciência, da pra ir longe no jogo. Já estou na missão 684, e já cumpri 78 das 83 conquistas desbloqueadas, conqueistei uma medalha de ouro e uma de bronze(até agora) nos eventos especiais sem investir grana. Estou jogando apenas desde o dia 26 de março e não jogo todos os dias (por falta de tempo). Mas é um jogo de ótima jogabilidade, gráfico excelente!'"
      ]
     },
     "execution_count": 50,
     "metadata": {},
     "output_type": "execute_result"
    }
   ],
   "source": [
    "data['content'][6000]"
   ]
  },
  {
   "cell_type": "code",
   "execution_count": 51,
   "metadata": {},
   "outputs": [],
   "source": [
    "# Export data\n",
    "data.to_csv('~/Downloads/most_relevant_comments.csv')"
   ]
  },
  {
   "cell_type": "code",
   "execution_count": 52,
   "metadata": {},
   "outputs": [],
   "source": [
    "# Export sampled data\n",
    "data_sampled = data.sample(n=100, random_state=123456)\n",
    "data_sampled.to_csv('~/Downloads/most_relevant_comments_sampled.csv')"
   ]
  },
  {
   "cell_type": "code",
   "execution_count": 53,
   "metadata": {},
   "outputs": [
    {
     "data": {
      "text/html": [
       "<div>\n",
       "<style scoped>\n",
       "    .dataframe tbody tr th:only-of-type {\n",
       "        vertical-align: middle;\n",
       "    }\n",
       "\n",
       "    .dataframe tbody tr th {\n",
       "        vertical-align: top;\n",
       "    }\n",
       "\n",
       "    .dataframe thead th {\n",
       "        text-align: right;\n",
       "    }\n",
       "</style>\n",
       "<table border=\"1\" class=\"dataframe\">\n",
       "  <thead>\n",
       "    <tr style=\"text-align: right;\">\n",
       "      <th></th>\n",
       "      <th>Unnamed: 0</th>\n",
       "      <th>userName</th>\n",
       "      <th>userImage</th>\n",
       "      <th>content</th>\n",
       "      <th>score</th>\n",
       "      <th>thumbsUpCount</th>\n",
       "      <th>reviewCreatedVersion</th>\n",
       "      <th>at</th>\n",
       "      <th>file_origin</th>\n",
       "      <th>app_id</th>\n",
       "    </tr>\n",
       "  </thead>\n",
       "  <tbody>\n",
       "    <tr>\n",
       "      <th>27995</th>\n",
       "      <td>95</td>\n",
       "      <td>Arthur Gomes</td>\n",
       "      <td>https://lh3.googleusercontent.com/-ItGAhrnAQK4...</td>\n",
       "      <td>Caras esse sim e um bom jogo, eu jogando esse ...</td>\n",
       "      <td>5</td>\n",
       "      <td>0</td>\n",
       "      <td>1.01</td>\n",
       "      <td>2020-05-06 13:25:55</td>\n",
       "      <td>../../var/data/com.robtopx.geometrydashmeltdow...</td>\n",
       "      <td>NaN</td>\n",
       "    </tr>\n",
       "    <tr>\n",
       "      <th>27996</th>\n",
       "      <td>96</td>\n",
       "      <td>igor chini</td>\n",
       "      <td>https://lh3.googleusercontent.com/a-/AOh14Gieg...</td>\n",
       "      <td>Este jogo me deixou feliz pq eu zerei então oq...</td>\n",
       "      <td>5</td>\n",
       "      <td>10</td>\n",
       "      <td>NaN</td>\n",
       "      <td>2018-09-25 00:44:45</td>\n",
       "      <td>../../var/data/com.robtopx.geometrydashmeltdow...</td>\n",
       "      <td>NaN</td>\n",
       "    </tr>\n",
       "    <tr>\n",
       "      <th>27997</th>\n",
       "      <td>97</td>\n",
       "      <td>BERNARDO PRÓ DE CASTRO</td>\n",
       "      <td>https://lh3.googleusercontent.com/-uRl6vCgKfs0...</td>\n",
       "      <td>Já passei de todas as frases muito legal recom...</td>\n",
       "      <td>5</td>\n",
       "      <td>1</td>\n",
       "      <td>NaN</td>\n",
       "      <td>2019-12-20 20:42:41</td>\n",
       "      <td>../../var/data/com.robtopx.geometrydashmeltdow...</td>\n",
       "      <td>NaN</td>\n",
       "    </tr>\n",
       "    <tr>\n",
       "      <th>27998</th>\n",
       "      <td>98</td>\n",
       "      <td>Marcio Cruz</td>\n",
       "      <td>https://lh3.googleusercontent.com/a-/AOh14GjpZ...</td>\n",
       "      <td>Musica exelente graficos simples mas fixes jog...</td>\n",
       "      <td>5</td>\n",
       "      <td>0</td>\n",
       "      <td>NaN</td>\n",
       "      <td>2020-01-16 14:51:53</td>\n",
       "      <td>../../var/data/com.robtopx.geometrydashmeltdow...</td>\n",
       "      <td>NaN</td>\n",
       "    </tr>\n",
       "    <tr>\n",
       "      <th>27999</th>\n",
       "      <td>99</td>\n",
       "      <td>Sinezio Mendonça</td>\n",
       "      <td>https://lh3.googleusercontent.com/-_wuqCIYjv0Q...</td>\n",
       "      <td>Acompanho esse jogo desde o inicio ja zerei to...</td>\n",
       "      <td>5</td>\n",
       "      <td>2</td>\n",
       "      <td>NaN</td>\n",
       "      <td>2020-02-25 01:25:25</td>\n",
       "      <td>../../var/data/com.robtopx.geometrydashmeltdow...</td>\n",
       "      <td>NaN</td>\n",
       "    </tr>\n",
       "  </tbody>\n",
       "</table>\n",
       "</div>"
      ],
      "text/plain": [
       "       Unnamed: 0                userName  \\\n",
       "27995          95            Arthur Gomes   \n",
       "27996          96              igor chini   \n",
       "27997          97  BERNARDO PRÓ DE CASTRO   \n",
       "27998          98             Marcio Cruz   \n",
       "27999          99        Sinezio Mendonça   \n",
       "\n",
       "                                               userImage  \\\n",
       "27995  https://lh3.googleusercontent.com/-ItGAhrnAQK4...   \n",
       "27996  https://lh3.googleusercontent.com/a-/AOh14Gieg...   \n",
       "27997  https://lh3.googleusercontent.com/-uRl6vCgKfs0...   \n",
       "27998  https://lh3.googleusercontent.com/a-/AOh14GjpZ...   \n",
       "27999  https://lh3.googleusercontent.com/-_wuqCIYjv0Q...   \n",
       "\n",
       "                                                 content  score  \\\n",
       "27995  Caras esse sim e um bom jogo, eu jogando esse ...      5   \n",
       "27996  Este jogo me deixou feliz pq eu zerei então oq...      5   \n",
       "27997  Já passei de todas as frases muito legal recom...      5   \n",
       "27998  Musica exelente graficos simples mas fixes jog...      5   \n",
       "27999  Acompanho esse jogo desde o inicio ja zerei to...      5   \n",
       "\n",
       "       thumbsUpCount reviewCreatedVersion                   at  \\\n",
       "27995              0                 1.01  2020-05-06 13:25:55   \n",
       "27996             10                  NaN  2018-09-25 00:44:45   \n",
       "27997              1                  NaN  2019-12-20 20:42:41   \n",
       "27998              0                  NaN  2020-01-16 14:51:53   \n",
       "27999              2                  NaN  2020-02-25 01:25:25   \n",
       "\n",
       "                                             file_origin app_id  \n",
       "27995  ../../var/data/com.robtopx.geometrydashmeltdow...    NaN  \n",
       "27996  ../../var/data/com.robtopx.geometrydashmeltdow...    NaN  \n",
       "27997  ../../var/data/com.robtopx.geometrydashmeltdow...    NaN  \n",
       "27998  ../../var/data/com.robtopx.geometrydashmeltdow...    NaN  \n",
       "27999  ../../var/data/com.robtopx.geometrydashmeltdow...    NaN  "
      ]
     },
     "execution_count": 53,
     "metadata": {},
     "output_type": "execute_result"
    }
   ],
   "source": [
    "data.tail()"
   ]
  },
  {
   "cell_type": "code",
   "execution_count": 54,
   "metadata": {},
   "outputs": [
    {
     "data": {
      "text/plain": [
       "'https://lh3.googleusercontent.com/-8ucqSD86Q8g/AAAAAAAAAAI/AAAAAAAAAAA/AMZuucmujBcRWp5fTs22RSMn0WcYKtQJNg/photo.jpg'"
      ]
     },
     "execution_count": 54,
     "metadata": {},
     "output_type": "execute_result"
    }
   ],
   "source": [
    "data['userImage'][100]"
   ]
  },
  {
   "cell_type": "code",
   "execution_count": null,
   "metadata": {},
   "outputs": [],
   "source": []
  }
 ],
 "metadata": {
  "kernelspec": {
   "display_name": "Python 3",
   "language": "python",
   "name": "python3"
  },
  "language_info": {
   "codemirror_mode": {
    "name": "ipython",
    "version": 3
   },
   "file_extension": ".py",
   "mimetype": "text/x-python",
   "name": "python",
   "nbconvert_exporter": "python",
   "pygments_lexer": "ipython3",
   "version": "3.8.5"
  }
 },
 "nbformat": 4,
 "nbformat_minor": 4
}
