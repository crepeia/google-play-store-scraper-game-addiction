{
 "cells": [
  {
   "cell_type": "code",
   "execution_count": 1,
   "metadata": {},
   "outputs": [],
   "source": [
    "import glob\n",
    "import pandas as pd\n",
    "import re\n",
    "import os\n",
    "\n",
    "def create_list_of_app_ids():\n",
    "    path = '../../var/data/'\n",
    "    files = glob.glob(path + '/*.csv')\n",
    "    files_list = []\n",
    "    for filename in files:\n",
    "        df = pd.read_csv(filename, index_col=None, header=0)\n",
    "        files_list.append(df)\n",
    "        \n",
    "    data = pd.concat(files_list, axis=0, ignore_index=True)\n",
    "    return(data)"
   ]
  },
  {
   "cell_type": "code",
   "execution_count": 2,
   "metadata": {},
   "outputs": [],
   "source": [
    "# Description of APP's\n",
    "data = create_list_of_app_ids()"
   ]
  },
  {
   "cell_type": "code",
   "execution_count": 3,
   "metadata": {},
   "outputs": [
    {
     "data": {
      "text/html": [
       "<div>\n",
       "<style scoped>\n",
       "    .dataframe tbody tr th:only-of-type {\n",
       "        vertical-align: middle;\n",
       "    }\n",
       "\n",
       "    .dataframe tbody tr th {\n",
       "        vertical-align: top;\n",
       "    }\n",
       "\n",
       "    .dataframe thead th {\n",
       "        text-align: right;\n",
       "    }\n",
       "</style>\n",
       "<table border=\"1\" class=\"dataframe\">\n",
       "  <thead>\n",
       "    <tr style=\"text-align: right;\">\n",
       "      <th></th>\n",
       "      <th>Unnamed: 0</th>\n",
       "      <th>rank</th>\n",
       "      <th>title</th>\n",
       "      <th>icon</th>\n",
       "      <th>↓Total ratings</th>\n",
       "      <th>Installs</th>\n",
       "      <th>Average rating</th>\n",
       "      <th>Growth (30 days)</th>\n",
       "      <th>Growth (60 days)</th>\n",
       "      <th>Price</th>\n",
       "      <th>app_id</th>\n",
       "      <th>category</th>\n",
       "    </tr>\n",
       "  </thead>\n",
       "  <tbody>\n",
       "    <tr>\n",
       "      <th>0</th>\n",
       "      <td>0</td>\n",
       "      <td>1.0</td>\n",
       "      <td>\\nMARVEL Future Fight\\n</td>\n",
       "      <td>NaN</td>\n",
       "      <td>2,759,302</td>\n",
       "      <td>50.0 M</td>\n",
       "      <td>4.39</td>\n",
       "      <td>0.4%</td>\n",
       "      <td>0.7%</td>\n",
       "      <td>Free</td>\n",
       "      <td>com.netmarble.mherosgb</td>\n",
       "      <td>GAME_ROLE_PLAYING</td>\n",
       "    </tr>\n",
       "    <tr>\n",
       "      <th>1</th>\n",
       "      <td>1</td>\n",
       "      <td>2.0</td>\n",
       "      <td>\\nAngry Birds Epic RPG\\n</td>\n",
       "      <td>NaN</td>\n",
       "      <td>2,655,384</td>\n",
       "      <td>10.0 M</td>\n",
       "      <td>4.55</td>\n",
       "      <td>0.0%</td>\n",
       "      <td>0.0%</td>\n",
       "      <td>Free</td>\n",
       "      <td>com.rovio.gold</td>\n",
       "      <td>GAME_ROLE_PLAYING</td>\n",
       "    </tr>\n",
       "    <tr>\n",
       "      <th>2</th>\n",
       "      <td>2</td>\n",
       "      <td>3.0</td>\n",
       "      <td>\\nShadow Fight 3\\n</td>\n",
       "      <td>NaN</td>\n",
       "      <td>2,527,699</td>\n",
       "      <td>50.0 M</td>\n",
       "      <td>4.00</td>\n",
       "      <td>1.5%</td>\n",
       "      <td>2.8%</td>\n",
       "      <td>Free</td>\n",
       "      <td>com.nekki.shadowfight3</td>\n",
       "      <td>GAME_ROLE_PLAYING</td>\n",
       "    </tr>\n",
       "    <tr>\n",
       "      <th>3</th>\n",
       "      <td>3</td>\n",
       "      <td>4.0</td>\n",
       "      <td>\\nFlight Pilot Simulator 3D Free\\n</td>\n",
       "      <td>NaN</td>\n",
       "      <td>2,460,471</td>\n",
       "      <td>100.0 M</td>\n",
       "      <td>4.31</td>\n",
       "      <td>0.8%</td>\n",
       "      <td>1.4%</td>\n",
       "      <td>Free</td>\n",
       "      <td>com.fungames.flightpilot</td>\n",
       "      <td>GAME_ROLE_PLAYING</td>\n",
       "    </tr>\n",
       "    <tr>\n",
       "      <th>4</th>\n",
       "      <td>4</td>\n",
       "      <td>5.0</td>\n",
       "      <td>\\nAvakin Life - 3D Virtual World\\n</td>\n",
       "      <td>NaN</td>\n",
       "      <td>2,415,258</td>\n",
       "      <td>50.0 M</td>\n",
       "      <td>4.32</td>\n",
       "      <td>3.1%</td>\n",
       "      <td>5.8%</td>\n",
       "      <td>Free</td>\n",
       "      <td>com.lockwoodpublishing.avakinlife</td>\n",
       "      <td>GAME_ROLE_PLAYING</td>\n",
       "    </tr>\n",
       "  </tbody>\n",
       "</table>\n",
       "</div>"
      ],
      "text/plain": [
       "   Unnamed: 0  rank                               title  icon ↓Total ratings  \\\n",
       "0           0   1.0             \\nMARVEL Future Fight\\n   NaN      2,759,302   \n",
       "1           1   2.0            \\nAngry Birds Epic RPG\\n   NaN      2,655,384   \n",
       "2           2   3.0                  \\nShadow Fight 3\\n   NaN      2,527,699   \n",
       "3           3   4.0  \\nFlight Pilot Simulator 3D Free\\n   NaN      2,460,471   \n",
       "4           4   5.0  \\nAvakin Life - 3D Virtual World\\n   NaN      2,415,258   \n",
       "\n",
       "  Installs  Average rating Growth (30 days) Growth (60 days) Price  \\\n",
       "0   50.0 M            4.39             0.4%             0.7%  Free   \n",
       "1   10.0 M            4.55             0.0%             0.0%  Free   \n",
       "2   50.0 M            4.00             1.5%             2.8%  Free   \n",
       "3  100.0 M            4.31             0.8%             1.4%  Free   \n",
       "4   50.0 M            4.32             3.1%             5.8%  Free   \n",
       "\n",
       "                              app_id           category  \n",
       "0             com.netmarble.mherosgb  GAME_ROLE_PLAYING  \n",
       "1                     com.rovio.gold  GAME_ROLE_PLAYING  \n",
       "2             com.nekki.shadowfight3  GAME_ROLE_PLAYING  \n",
       "3           com.fungames.flightpilot  GAME_ROLE_PLAYING  \n",
       "4  com.lockwoodpublishing.avakinlife  GAME_ROLE_PLAYING  "
      ]
     },
     "execution_count": 3,
     "metadata": {},
     "output_type": "execute_result"
    }
   ],
   "source": [
    "data.head()"
   ]
  },
  {
   "cell_type": "code",
   "execution_count": 4,
   "metadata": {},
   "outputs": [],
   "source": [
    "# Select only the top 10 APPs for each category\n",
    "df = data[data['rank'] < 11]\n",
    "list_of_ids = df['app_id']"
   ]
  },
  {
   "cell_type": "code",
   "execution_count": 5,
   "metadata": {},
   "outputs": [],
   "source": [
    "# Open Comments data that were scraped as most relevant\n",
    "list_of_paths = []\n",
    "for app in list_of_ids:\n",
    "    paths = '../../var/data/{0}'.format(app)\n",
    "    list_of_paths.append(paths)\n",
    "    \n",
    "list_of_files = []\n",
    "for path in list_of_paths:\n",
    "    files = glob.glob(path + '/MOST_RELEVANT*.csv')\n",
    "    list_of_files.append(files)\n",
    "    \n",
    "list_of_files = list(filter(None, list_of_files))\n",
    "list_of_files = [y for x in list_of_files for y in x]\n",
    "\n",
    "df_list = []\n",
    "for filename in list_of_files:\n",
    "    df = pd.read_csv(filename, index_col=None, header=0)\n",
    "    df['file_origin'] = filename\n",
    "    df_list.append(df)\n",
    "\n",
    "data = pd.concat(df_list, axis=0, ignore_index=True)"
   ]
  },
  {
   "cell_type": "code",
   "execution_count": 6,
   "metadata": {},
   "outputs": [
    {
     "data": {
      "text/plain": [
       "(14000, 9)"
      ]
     },
     "execution_count": 6,
     "metadata": {},
     "output_type": "execute_result"
    }
   ],
   "source": [
    "data.shape"
   ]
  },
  {
   "cell_type": "code",
   "execution_count": 7,
   "metadata": {},
   "outputs": [
    {
     "data": {
      "text/plain": [
       "['Unnamed: 0',\n",
       " 'userName',\n",
       " 'userImage',\n",
       " 'content',\n",
       " 'score',\n",
       " 'thumbsUpCount',\n",
       " 'reviewCreatedVersion',\n",
       " 'at',\n",
       " 'file_origin']"
      ]
     },
     "execution_count": 7,
     "metadata": {},
     "output_type": "execute_result"
    }
   ],
   "source": [
    "list(data)"
   ]
  },
  {
   "cell_type": "code",
   "execution_count": 8,
   "metadata": {},
   "outputs": [
    {
     "data": {
      "text/plain": [
       "(14000, 9)"
      ]
     },
     "execution_count": 8,
     "metadata": {},
     "output_type": "execute_result"
    }
   ],
   "source": [
    "data.drop_duplicates(['content', 'at']).shape"
   ]
  },
  {
   "cell_type": "code",
   "execution_count": 9,
   "metadata": {},
   "outputs": [],
   "source": [
    "# Get application id\n",
    "data['app_id'] = data['file_origin'].str.extract(pat='/home/henriquegomide/videogame-addiction-play-store/var/data/(.*)/MOST_RELEVANT.csv')"
   ]
  },
  {
   "cell_type": "code",
   "execution_count": 10,
   "metadata": {},
   "outputs": [
    {
     "data": {
      "text/plain": [
       "0    O jogo está ficando cada vez mais mercenário, ...\n",
       "1    A cada atualização (mensal), o jogo fica mais ...\n",
       "2    não são dignos de ganhar nem 1 estrela, jogo d...\n",
       "3    Os desenvolvedores não Jogam o Jogo, não ouvem...\n",
       "Name: content, dtype: object"
      ]
     },
     "execution_count": 10,
     "metadata": {},
     "output_type": "execute_result"
    }
   ],
   "source": [
    "# Sample of contents\n",
    "data['content'][0:4]"
   ]
  },
  {
   "cell_type": "code",
   "execution_count": 11,
   "metadata": {},
   "outputs": [
    {
     "data": {
      "text/plain": [
       "'O jogo está ficando cada vez mais mercenário, ainda mais com a vinda desse passe futuro que tem dois níveis de compra e o primeiro custa quase R$40... Tem muitos erros no jogo que são ignorados, muitos personagens que foram esquecidos e o pior se você não gasta dinheiro com o jogo você não vai muito longe e fica chato depois de um tempo ainda mais com esse passe futuro que você teria que gastar mais de R$150... Se continuar eu irei parar de jogar e gastar com o jogo'"
      ]
     },
     "execution_count": 11,
     "metadata": {},
     "output_type": "execute_result"
    }
   ],
   "source": [
    "data['content'][0]"
   ]
  },
  {
   "cell_type": "code",
   "execution_count": 19,
   "metadata": {},
   "outputs": [
    {
     "data": {
      "text/plain": [
       "'Não estou gostando mais do jogo, porquê os aquários não estão desbloqueando, mesmo já tendo completado as estrelas dos anteriores. Além disso, aparece que está faltando estrelas para completar, sendo que eu já completei. Por isso, queria saber o que está acontecendo, estou pensando seriamente em desinstalar. Por favor, Alguém me responde!'"
      ]
     },
     "execution_count": 19,
     "metadata": {},
     "output_type": "execute_result"
    }
   ],
   "source": [
    "data['content'][1000]"
   ]
  },
  {
   "cell_type": "code",
   "execution_count": 20,
   "metadata": {},
   "outputs": [
    {
     "data": {
      "text/plain": [
       "'Durante alguns tempos muito boa, hoje quis jogar e ao abrir para meu espanto puseram me a começar do zero. Acho isso completamente inconcebível..... Agora voltei a tentar e voltou a aparecer tudo certo. Vou ficar a analisar durante um tempo para ver o comportamento.'"
      ]
     },
     "execution_count": 20,
     "metadata": {},
     "output_type": "execute_result"
    }
   ],
   "source": [
    "data['content'][4000]"
   ]
  },
  {
   "cell_type": "code",
   "execution_count": 21,
   "metadata": {},
   "outputs": [
    {
     "data": {
      "text/plain": [
       "'Muito bom. O que falta é opção de outros idiomas. Foi o principal motivo de faltar a 5ª estrela na minha avaliação. Ainda estou no começo do jogo, mas a jogabilidade é simples e intuitiva. O que atrapalha um pouco é que as vezes a gente tenta arrastar a tela e acaba por deslocar um personagem p outro lugar, as vezes sem perceber, podendo prejudicar bastante a evolução do jogo.'"
      ]
     },
     "execution_count": 21,
     "metadata": {},
     "output_type": "execute_result"
    }
   ],
   "source": [
    "data['content'][6000]"
   ]
  },
  {
   "cell_type": "code",
   "execution_count": 22,
   "metadata": {},
   "outputs": [],
   "source": [
    "# Export data\n",
    "data.to_csv('~/Downloads/most_relevant_comments.csv')"
   ]
  },
  {
   "cell_type": "code",
   "execution_count": 23,
   "metadata": {},
   "outputs": [],
   "source": [
    "# Export sampled data\n",
    "data_sampled = data.sample(n=100, random_state=123456)\n",
    "data_sampled.to_csv('~/Downloads/most_relevant_comments_sampled.csv')"
   ]
  },
  {
   "cell_type": "code",
   "execution_count": null,
   "metadata": {},
   "outputs": [],
   "source": []
  }
 ],
 "metadata": {
  "kernelspec": {
   "display_name": "Python 3",
   "language": "python",
   "name": "python3"
  },
  "language_info": {
   "codemirror_mode": {
    "name": "ipython",
    "version": 3
   },
   "file_extension": ".py",
   "mimetype": "text/x-python",
   "name": "python",
   "nbconvert_exporter": "python",
   "pygments_lexer": "ipython3",
   "version": "3.6.9"
  }
 },
 "nbformat": 4,
 "nbformat_minor": 4
}
