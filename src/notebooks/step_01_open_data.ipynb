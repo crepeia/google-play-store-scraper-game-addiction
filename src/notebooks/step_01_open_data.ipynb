{
 "cells": [
  {
   "cell_type": "code",
   "execution_count": 16,
   "metadata": {},
   "outputs": [],
   "source": [
    "import glob\n",
    "import pandas as pd\n",
    "import re\n",
    "import os\n",
    "\n",
    "def create_list_of_app_ids():\n",
    "    path = '/home/henriquegomide/videogame-addiction-play-store/var/data'\n",
    "    files = glob.glob(path + '/*.csv')\n",
    "    files_list = []\n",
    "    for filename in files:\n",
    "        df = pd.read_csv(filename, index_col=None, header=0)\n",
    "        files_list.append(df)\n",
    "        \n",
    "    data = pd.concat(files_list, axis=0, ignore_index=True)\n",
    "    return(data)"
   ]
  },
  {
   "cell_type": "code",
   "execution_count": 17,
   "metadata": {},
   "outputs": [],
   "source": [
    "# Description of APP's\n",
    "data = create_list_of_app_ids()"
   ]
  },
  {
   "cell_type": "code",
   "execution_count": 18,
   "metadata": {},
   "outputs": [
    {
     "data": {
      "text/html": [
       "<div>\n",
       "<style scoped>\n",
       "    .dataframe tbody tr th:only-of-type {\n",
       "        vertical-align: middle;\n",
       "    }\n",
       "\n",
       "    .dataframe tbody tr th {\n",
       "        vertical-align: top;\n",
       "    }\n",
       "\n",
       "    .dataframe thead th {\n",
       "        text-align: right;\n",
       "    }\n",
       "</style>\n",
       "<table border=\"1\" class=\"dataframe\">\n",
       "  <thead>\n",
       "    <tr style=\"text-align: right;\">\n",
       "      <th></th>\n",
       "      <th>Unnamed: 0</th>\n",
       "      <th>rank</th>\n",
       "      <th>title</th>\n",
       "      <th>icon</th>\n",
       "      <th>↓Total ratings</th>\n",
       "      <th>Installs</th>\n",
       "      <th>Average rating</th>\n",
       "      <th>Growth (30 days)</th>\n",
       "      <th>Growth (60 days)</th>\n",
       "      <th>Price</th>\n",
       "      <th>app_id</th>\n",
       "      <th>category</th>\n",
       "    </tr>\n",
       "  </thead>\n",
       "  <tbody>\n",
       "    <tr>\n",
       "      <th>0</th>\n",
       "      <td>0</td>\n",
       "      <td>1.0</td>\n",
       "      <td>\\nZynga Poker – Free Texas Holdem Online Card ...</td>\n",
       "      <td>NaN</td>\n",
       "      <td>2,387,346</td>\n",
       "      <td>50.0 M</td>\n",
       "      <td>4.46</td>\n",
       "      <td>0.7%</td>\n",
       "      <td>1.4%</td>\n",
       "      <td>Free</td>\n",
       "      <td>com.zynga.livepoker</td>\n",
       "      <td>GAME_CASINO</td>\n",
       "    </tr>\n",
       "    <tr>\n",
       "      <th>1</th>\n",
       "      <td>1</td>\n",
       "      <td>2.0</td>\n",
       "      <td>\\nSlotomania™ Slots Casino: Vegas Slot Machine...</td>\n",
       "      <td>NaN</td>\n",
       "      <td>1,617,779</td>\n",
       "      <td>50.0 M</td>\n",
       "      <td>4.37</td>\n",
       "      <td>0.8%</td>\n",
       "      <td>1.6%</td>\n",
       "      <td>Free</td>\n",
       "      <td>air.com.playtika.slotomania</td>\n",
       "      <td>GAME_CASINO</td>\n",
       "    </tr>\n",
       "    <tr>\n",
       "      <th>2</th>\n",
       "      <td>2</td>\n",
       "      <td>3.0</td>\n",
       "      <td>\\nTeen Patti by Octro - Indian Poker Card Game\\n</td>\n",
       "      <td>NaN</td>\n",
       "      <td>1,412,462</td>\n",
       "      <td>50.0 M</td>\n",
       "      <td>4.44</td>\n",
       "      <td>0.2%</td>\n",
       "      <td>0.5%</td>\n",
       "      <td>Free</td>\n",
       "      <td>com.octro.teenpatti</td>\n",
       "      <td>GAME_CASINO</td>\n",
       "    </tr>\n",
       "    <tr>\n",
       "      <th>3</th>\n",
       "      <td>3</td>\n",
       "      <td>4.0</td>\n",
       "      <td>\\nCoin Dozer: Sweepstakes\\n</td>\n",
       "      <td>NaN</td>\n",
       "      <td>1,379,260</td>\n",
       "      <td>50.0 M</td>\n",
       "      <td>4.59</td>\n",
       "      <td>0.8%</td>\n",
       "      <td>1.6%</td>\n",
       "      <td>Free</td>\n",
       "      <td>com.leftover.CoinDozer</td>\n",
       "      <td>GAME_CASINO</td>\n",
       "    </tr>\n",
       "    <tr>\n",
       "      <th>4</th>\n",
       "      <td>4</td>\n",
       "      <td>5.0</td>\n",
       "      <td>\\nSlots: House of Fun™️ Casino Slot Machine Ga...</td>\n",
       "      <td>NaN</td>\n",
       "      <td>1,254,424</td>\n",
       "      <td>10.0 M</td>\n",
       "      <td>4.56</td>\n",
       "      <td>1.2%</td>\n",
       "      <td>2.4%</td>\n",
       "      <td>Free</td>\n",
       "      <td>com.pacificinteractive.HouseOfFun</td>\n",
       "      <td>GAME_CASINO</td>\n",
       "    </tr>\n",
       "  </tbody>\n",
       "</table>\n",
       "</div>"
      ],
      "text/plain": [
       "   Unnamed: 0  rank                                              title  icon  \\\n",
       "0           0   1.0  \\nZynga Poker – Free Texas Holdem Online Card ...   NaN   \n",
       "1           1   2.0  \\nSlotomania™ Slots Casino: Vegas Slot Machine...   NaN   \n",
       "2           2   3.0   \\nTeen Patti by Octro - Indian Poker Card Game\\n   NaN   \n",
       "3           3   4.0                        \\nCoin Dozer: Sweepstakes\\n   NaN   \n",
       "4           4   5.0  \\nSlots: House of Fun™️ Casino Slot Machine Ga...   NaN   \n",
       "\n",
       "  ↓Total ratings Installs  Average rating Growth (30 days) Growth (60 days)  \\\n",
       "0      2,387,346   50.0 M            4.46             0.7%             1.4%   \n",
       "1      1,617,779   50.0 M            4.37             0.8%             1.6%   \n",
       "2      1,412,462   50.0 M            4.44             0.2%             0.5%   \n",
       "3      1,379,260   50.0 M            4.59             0.8%             1.6%   \n",
       "4      1,254,424   10.0 M            4.56             1.2%             2.4%   \n",
       "\n",
       "  Price                             app_id     category  \n",
       "0  Free                com.zynga.livepoker  GAME_CASINO  \n",
       "1  Free        air.com.playtika.slotomania  GAME_CASINO  \n",
       "2  Free                com.octro.teenpatti  GAME_CASINO  \n",
       "3  Free             com.leftover.CoinDozer  GAME_CASINO  \n",
       "4  Free  com.pacificinteractive.HouseOfFun  GAME_CASINO  "
      ]
     },
     "execution_count": 18,
     "metadata": {},
     "output_type": "execute_result"
    }
   ],
   "source": [
    "data.head()"
   ]
  },
  {
   "cell_type": "code",
   "execution_count": 19,
   "metadata": {},
   "outputs": [],
   "source": [
    "# Select only the top 10 APPs for each category\n",
    "df = data[data['rank'] < 11]\n",
    "list_of_ids = df['app_id']"
   ]
  },
  {
   "cell_type": "code",
   "execution_count": 20,
   "metadata": {},
   "outputs": [],
   "source": [
    "# Open Comments data that were scraped as most relevant\n",
    "list_of_paths = []\n",
    "for app in list_of_ids:\n",
    "    paths = '/home/henriquegomide/videogame-addiction-play-store/var/data/{0}'.format(app)\n",
    "    list_of_paths.append(paths)\n",
    "    \n",
    "list_of_files = []\n",
    "for path in list_of_paths:\n",
    "    files = glob.glob(path + '/MOST_RELEVANT*.csv')\n",
    "    list_of_files.append(files)\n",
    "    \n",
    "list_of_files = list(filter(None, list_of_files))\n",
    "list_of_files = [y for x in list_of_files for y in x]\n",
    "\n",
    "df_list = []\n",
    "for filename in list_of_files:\n",
    "    df = pd.read_csv(filename, index_col=None, header=0)\n",
    "    df['file_origin'] = filename\n",
    "    df_list.append(df)\n",
    "\n",
    "data = pd.concat(df_list, axis=0, ignore_index=True)"
   ]
  },
  {
   "cell_type": "code",
   "execution_count": 21,
   "metadata": {},
   "outputs": [
    {
     "data": {
      "text/plain": [
       "(14000, 9)"
      ]
     },
     "execution_count": 21,
     "metadata": {},
     "output_type": "execute_result"
    }
   ],
   "source": [
    "data.shape"
   ]
  },
  {
   "cell_type": "code",
   "execution_count": 22,
   "metadata": {},
   "outputs": [
    {
     "data": {
      "text/plain": [
       "['Unnamed: 0',\n",
       " 'userName',\n",
       " 'userImage',\n",
       " 'content',\n",
       " 'score',\n",
       " 'thumbsUpCount',\n",
       " 'reviewCreatedVersion',\n",
       " 'at',\n",
       " 'file_origin']"
      ]
     },
     "execution_count": 22,
     "metadata": {},
     "output_type": "execute_result"
    }
   ],
   "source": [
    "list(data)"
   ]
  },
  {
   "cell_type": "code",
   "execution_count": 23,
   "metadata": {},
   "outputs": [
    {
     "data": {
      "text/plain": [
       "(14000, 9)"
      ]
     },
     "execution_count": 23,
     "metadata": {},
     "output_type": "execute_result"
    }
   ],
   "source": [
    "data.drop_duplicates(['content', 'at']).shape"
   ]
  },
  {
   "cell_type": "code",
   "execution_count": 24,
   "metadata": {},
   "outputs": [],
   "source": [
    "# Get application id\n",
    "data['app_id'] = data['file_origin'].str.extract(pat='/home/henriquegomide/videogame-addiction-play-store/var/data/(.*)/MOST_RELEVANT.csv')"
   ]
  },
  {
   "cell_type": "code",
   "execution_count": 25,
   "metadata": {},
   "outputs": [
    {
     "data": {
      "text/plain": [
       "0    Um bom tempo sem ganhar, a não ser brindes. Jo...\n",
       "1    Já havia notado que o jogo é tendencioso. Mas ...\n",
       "2    Dei apenas 1 pq não tinha como dar nenhuma, pe...\n",
       "3    Na minha opinião, é pouco realista em relação ...\n",
       "Name: content, dtype: object"
      ]
     },
     "execution_count": 25,
     "metadata": {},
     "output_type": "execute_result"
    }
   ],
   "source": [
    "# Sample of contents\n",
    "data['content'][0:4]"
   ]
  },
  {
   "cell_type": "code",
   "execution_count": 11,
   "metadata": {},
   "outputs": [
    {
     "data": {
      "text/plain": [
       "'Um bom tempo sem ganhar, a não ser brindes. Jogo está deixando a desejar a cada dia que passa, nitidamente manipulado, principalmente em apostas altas, fora o monte de robôs que o jogo aparenta ter. Vocês que acham que pagar lhe darão privilégios, tá muito enganado, a 15 dias +/- fiz uma compra de 600K , e já me levaram 618K nesse período, 2 vitórias somente. Esse jogo é totalmente desonesto, e quem é responsável por esse Play Store é conivente com tudo isso. JOGO LADRÃO, DESONESTO E MANIPULADO.'"
      ]
     },
     "execution_count": 11,
     "metadata": {},
     "output_type": "execute_result"
    }
   ],
   "source": [
    "data['content'][0]"
   ]
  },
  {
   "cell_type": "code",
   "execution_count": 12,
   "metadata": {},
   "outputs": [
    {
     "data": {
      "text/plain": [
       "'Esse jogo é muito legal, por isso que eu dei cinco estrelas por causa que um jogo muito legal, eu amo o jogo da Ângela. Ela é super hiper mega legal super legal mesmo, só que ela deveria dar esse jogo poderia melhorar numa coisa que a gente poder tipo assim. A gente poder conversar com tu mesmo, se a pessoa não tem um jogo tipo ela poder ligar para então e também os jogos que não que estão bloqueados que só tem só pode jogar assim que vai no nosso celular. Isso é injusto. Isso é injusto mesmo en'"
      ]
     },
     "execution_count": 12,
     "metadata": {},
     "output_type": "execute_result"
    }
   ],
   "source": [
    "data['content'][1000]"
   ]
  },
  {
   "cell_type": "code",
   "execution_count": 13,
   "metadata": {},
   "outputs": [
    {
     "data": {
      "text/plain": [
       "'O jogo é bom para entreter. Mas o que dificulta demais é que é tudo americano. Algumas marcas não vemos por aqui (Brasil). As dicas em inglês não ajudam em nada se não soubermos falar a língua, ficamos dependentes de um tradutor online. Se não fosse isso tudo, daria 5 estrelas !!!'"
      ]
     },
     "execution_count": 13,
     "metadata": {},
     "output_type": "execute_result"
    }
   ],
   "source": [
    "data['content'][4000]"
   ]
  },
  {
   "cell_type": "code",
   "execution_count": 14,
   "metadata": {},
   "outputs": [
    {
     "data": {
      "text/plain": [
       "'O jogo é excelente!!! O gráfico é ótimo, a jogabilidade é incrível e as armas são fantásticas. Mas, focando no quesito de subir no ranking, vocês poderiam utilizar todos os modos para subir no ranking. Outra observação seria que vocês adicionassem o modo de terceira pessoa nos outros modos de jogo, tanto, multiplayer como zumbi ou jogo de armas. Não tenho nenhuma crítica a fazer com relação ao jogo porque está excelente; só opiniões mesmo. Parabéns a equipe.👏👏'"
      ]
     },
     "execution_count": 14,
     "metadata": {},
     "output_type": "execute_result"
    }
   ],
   "source": [
    "data['content'][6000]"
   ]
  },
  {
   "cell_type": "code",
   "execution_count": 15,
   "metadata": {},
   "outputs": [],
   "source": [
    "# Export data\n",
    "# data.to_csv('/home/henriquegomide/videogame-addiction-play-store/var/data/most_relevant_comments.csv')"
   ]
  },
  {
   "cell_type": "code",
   "execution_count": null,
   "metadata": {},
   "outputs": [],
   "source": []
  }
 ],
 "metadata": {
  "kernelspec": {
   "display_name": "Python 3",
   "language": "python",
   "name": "python3"
  },
  "language_info": {
   "codemirror_mode": {
    "name": "ipython",
    "version": 3
   },
   "file_extension": ".py",
   "mimetype": "text/x-python",
   "name": "python",
   "nbconvert_exporter": "python",
   "pygments_lexer": "ipython3",
   "version": "3.6.9"
  }
 },
 "nbformat": 4,
 "nbformat_minor": 4
}
