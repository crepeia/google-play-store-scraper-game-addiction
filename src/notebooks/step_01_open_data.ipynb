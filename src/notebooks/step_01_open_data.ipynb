{
 "cells": [
  {
   "cell_type": "code",
   "execution_count": 12,
   "metadata": {},
   "outputs": [],
   "source": [
    "import glob\n",
    "import pandas as pd\n",
    "import re\n",
    "import os\n",
    "\n",
    "def create_list_of_app_ids():\n",
    "    path = '../../var/data/'\n",
    "    files = glob.glob(path + '/*.csv')\n",
    "    files_list = []\n",
    "    for filename in files:\n",
    "        df = pd.read_csv(filename, index_col=None, header=0)\n",
    "        files_list.append(df)\n",
    "        \n",
    "    data = pd.concat(files_list, axis=0, ignore_index=True)\n",
    "    return(data)"
   ]
  },
  {
   "cell_type": "code",
   "execution_count": 13,
   "metadata": {},
   "outputs": [],
   "source": [
    "# Description of APP's\n",
    "data = create_list_of_app_ids()"
   ]
  },
  {
   "cell_type": "code",
   "execution_count": 14,
   "metadata": {},
   "outputs": [
    {
     "data": {
      "text/html": [
       "<div>\n",
       "<style scoped>\n",
       "    .dataframe tbody tr th:only-of-type {\n",
       "        vertical-align: middle;\n",
       "    }\n",
       "\n",
       "    .dataframe tbody tr th {\n",
       "        vertical-align: top;\n",
       "    }\n",
       "\n",
       "    .dataframe thead th {\n",
       "        text-align: right;\n",
       "    }\n",
       "</style>\n",
       "<table border=\"1\" class=\"dataframe\">\n",
       "  <thead>\n",
       "    <tr style=\"text-align: right;\">\n",
       "      <th></th>\n",
       "      <th>Unnamed: 0</th>\n",
       "      <th>rank</th>\n",
       "      <th>title</th>\n",
       "      <th>icon</th>\n",
       "      <th>↓Total ratings</th>\n",
       "      <th>Installs</th>\n",
       "      <th>Average rating</th>\n",
       "      <th>Growth (30 days)</th>\n",
       "      <th>Growth (60 days)</th>\n",
       "      <th>Price</th>\n",
       "      <th>app_id</th>\n",
       "      <th>category</th>\n",
       "      <th>userName</th>\n",
       "      <th>userImage</th>\n",
       "      <th>content</th>\n",
       "      <th>score</th>\n",
       "      <th>thumbsUpCount</th>\n",
       "      <th>reviewCreatedVersion</th>\n",
       "    </tr>\n",
       "  </thead>\n",
       "  <tbody>\n",
       "    <tr>\n",
       "      <th>955</th>\n",
       "      <td>15</td>\n",
       "      <td>16.0</td>\n",
       "      <td>\\nRed Ball 4\\n</td>\n",
       "      <td>NaN</td>\n",
       "      <td>1,951,549</td>\n",
       "      <td>100.0 M</td>\n",
       "      <td>4.40</td>\n",
       "      <td>1.8%</td>\n",
       "      <td>3.0%</td>\n",
       "      <td>Free</td>\n",
       "      <td>com.FDGEntertainment.redball4.gp</td>\n",
       "      <td>GAME_ARCADE</td>\n",
       "      <td>NaN</td>\n",
       "      <td>NaN</td>\n",
       "      <td>NaN</td>\n",
       "      <td>NaN</td>\n",
       "      <td>NaN</td>\n",
       "      <td>NaN</td>\n",
       "    </tr>\n",
       "    <tr>\n",
       "      <th>956</th>\n",
       "      <td>16</td>\n",
       "      <td>17.0</td>\n",
       "      <td>\\nAngry Birds Transformers\\n</td>\n",
       "      <td>NaN</td>\n",
       "      <td>1,828,946</td>\n",
       "      <td>50.0 M</td>\n",
       "      <td>4.60</td>\n",
       "      <td>0.4%</td>\n",
       "      <td>0.6%</td>\n",
       "      <td>Free</td>\n",
       "      <td>com.rovio.angrybirdstransformers</td>\n",
       "      <td>GAME_ARCADE</td>\n",
       "      <td>NaN</td>\n",
       "      <td>NaN</td>\n",
       "      <td>NaN</td>\n",
       "      <td>NaN</td>\n",
       "      <td>NaN</td>\n",
       "      <td>NaN</td>\n",
       "    </tr>\n",
       "    <tr>\n",
       "      <th>957</th>\n",
       "      <td>17</td>\n",
       "      <td>18.0</td>\n",
       "      <td>\\nGlow Hockey\\n</td>\n",
       "      <td>NaN</td>\n",
       "      <td>1,762,167</td>\n",
       "      <td>100.0 M</td>\n",
       "      <td>4.23</td>\n",
       "      <td>0.3%</td>\n",
       "      <td>0.4%</td>\n",
       "      <td>Free</td>\n",
       "      <td>com.natenai.glowhockey</td>\n",
       "      <td>GAME_ARCADE</td>\n",
       "      <td>NaN</td>\n",
       "      <td>NaN</td>\n",
       "      <td>NaN</td>\n",
       "      <td>NaN</td>\n",
       "      <td>NaN</td>\n",
       "      <td>NaN</td>\n",
       "    </tr>\n",
       "    <tr>\n",
       "      <th>958</th>\n",
       "      <td>18</td>\n",
       "      <td>19.0</td>\n",
       "      <td>\\nAngry Birds Seasons\\n</td>\n",
       "      <td>NaN</td>\n",
       "      <td>1,681,744</td>\n",
       "      <td>100.0 M</td>\n",
       "      <td>4.52</td>\n",
       "      <td>0.0%</td>\n",
       "      <td>0.0%</td>\n",
       "      <td>Free</td>\n",
       "      <td>com.rovio.angrybirdsseasons</td>\n",
       "      <td>GAME_ARCADE</td>\n",
       "      <td>NaN</td>\n",
       "      <td>NaN</td>\n",
       "      <td>NaN</td>\n",
       "      <td>NaN</td>\n",
       "      <td>NaN</td>\n",
       "      <td>NaN</td>\n",
       "    </tr>\n",
       "    <tr>\n",
       "      <th>959</th>\n",
       "      <td>19</td>\n",
       "      <td>20.0</td>\n",
       "      <td>\\nGeometry Dash Meltdown\\n</td>\n",
       "      <td>NaN</td>\n",
       "      <td>1,672,188</td>\n",
       "      <td>50.0 M</td>\n",
       "      <td>4.53</td>\n",
       "      <td>0.2%</td>\n",
       "      <td>0.5%</td>\n",
       "      <td>Free</td>\n",
       "      <td>com.robtopx.geometrydashmeltdown</td>\n",
       "      <td>GAME_ARCADE</td>\n",
       "      <td>NaN</td>\n",
       "      <td>NaN</td>\n",
       "      <td>NaN</td>\n",
       "      <td>NaN</td>\n",
       "      <td>NaN</td>\n",
       "      <td>NaN</td>\n",
       "    </tr>\n",
       "  </tbody>\n",
       "</table>\n",
       "</div>"
      ],
      "text/plain": [
       "     Unnamed: 0  rank                         title  icon ↓Total ratings  \\\n",
       "955          15  16.0                \\nRed Ball 4\\n   NaN      1,951,549   \n",
       "956          16  17.0  \\nAngry Birds Transformers\\n   NaN      1,828,946   \n",
       "957          17  18.0               \\nGlow Hockey\\n   NaN      1,762,167   \n",
       "958          18  19.0       \\nAngry Birds Seasons\\n   NaN      1,681,744   \n",
       "959          19  20.0    \\nGeometry Dash Meltdown\\n   NaN      1,672,188   \n",
       "\n",
       "    Installs  Average rating Growth (30 days) Growth (60 days) Price  \\\n",
       "955  100.0 M            4.40             1.8%             3.0%  Free   \n",
       "956   50.0 M            4.60             0.4%             0.6%  Free   \n",
       "957  100.0 M            4.23             0.3%             0.4%  Free   \n",
       "958  100.0 M            4.52             0.0%             0.0%  Free   \n",
       "959   50.0 M            4.53             0.2%             0.5%  Free   \n",
       "\n",
       "                               app_id     category userName userImage content  \\\n",
       "955  com.FDGEntertainment.redball4.gp  GAME_ARCADE      NaN       NaN     NaN   \n",
       "956  com.rovio.angrybirdstransformers  GAME_ARCADE      NaN       NaN     NaN   \n",
       "957            com.natenai.glowhockey  GAME_ARCADE      NaN       NaN     NaN   \n",
       "958       com.rovio.angrybirdsseasons  GAME_ARCADE      NaN       NaN     NaN   \n",
       "959  com.robtopx.geometrydashmeltdown  GAME_ARCADE      NaN       NaN     NaN   \n",
       "\n",
       "     score  thumbsUpCount reviewCreatedVersion  \n",
       "955    NaN            NaN                  NaN  \n",
       "956    NaN            NaN                  NaN  \n",
       "957    NaN            NaN                  NaN  \n",
       "958    NaN            NaN                  NaN  \n",
       "959    NaN            NaN                  NaN  "
      ]
     },
     "execution_count": 14,
     "metadata": {},
     "output_type": "execute_result"
    }
   ],
   "source": [
    "data.head()"
   ]
  },
  {
   "cell_type": "code",
   "execution_count": 8,
   "metadata": {},
   "outputs": [],
   "source": [
    "# Open Comments data that were scraped as most relevant\n",
    "list_of_paths = []\n",
    "for app in list_of_ids:\n",
    "    paths = '../../var/data/{0}'.format(app)\n",
    "    list_of_paths.append(paths)\n",
    "    \n",
    "list_of_files = []\n",
    "for path in list_of_paths:\n",
    "    files = glob.glob(path + '/MOST_RELEVANT*.csv')\n",
    "    list_of_files.append(files)\n",
    "    \n",
    "list_of_files = list(filter(None, list_of_files))\n",
    "list_of_files = [y for x in list_of_files for y in x]\n",
    "\n",
    "df_list = []\n",
    "for filename in list_of_files:\n",
    "    df = pd.read_csv(filename, index_col=None, header=0)\n",
    "    df['file_origin'] = filename\n",
    "    df_list.append(df)\n",
    "\n",
    "data = pd.concat(df_list, axis=0, ignore_index=True)"
   ]
  },
  {
   "cell_type": "code",
   "execution_count": 9,
   "metadata": {},
   "outputs": [
    {
     "data": {
      "text/plain": [
       "(14000, 9)"
      ]
     },
     "execution_count": 9,
     "metadata": {},
     "output_type": "execute_result"
    }
   ],
   "source": [
    "data.shape"
   ]
  },
  {
   "cell_type": "code",
   "execution_count": 7,
   "metadata": {},
   "outputs": [
    {
     "data": {
      "text/plain": [
       "['Unnamed: 0',\n",
       " 'userName',\n",
       " 'userImage',\n",
       " 'content',\n",
       " 'score',\n",
       " 'thumbsUpCount',\n",
       " 'reviewCreatedVersion',\n",
       " 'at',\n",
       " 'file_origin']"
      ]
     },
     "execution_count": 7,
     "metadata": {},
     "output_type": "execute_result"
    }
   ],
   "source": [
    "list(data)"
   ]
  },
  {
   "cell_type": "code",
   "execution_count": 8,
   "metadata": {},
   "outputs": [
    {
     "data": {
      "text/plain": [
       "(14000, 9)"
      ]
     },
     "execution_count": 8,
     "metadata": {},
     "output_type": "execute_result"
    }
   ],
   "source": [
    "data.drop_duplicates(['content', 'at']).shape"
   ]
  },
  {
   "cell_type": "code",
   "execution_count": 9,
   "metadata": {},
   "outputs": [],
   "source": [
    "# Get application id\n",
    "data['app_id'] = data['file_origin'].str.extract(pat='/home/henriquegomide/videogame-addiction-play-store/var/data/(.*)/MOST_RELEVANT.csv')"
   ]
  },
  {
   "cell_type": "code",
   "execution_count": 10,
   "metadata": {},
   "outputs": [
    {
     "data": {
      "text/plain": [
       "0    O jogo está ficando cada vez mais mercenário, ...\n",
       "1    A cada atualização (mensal), o jogo fica mais ...\n",
       "2    não são dignos de ganhar nem 1 estrela, jogo d...\n",
       "3    Os desenvolvedores não Jogam o Jogo, não ouvem...\n",
       "Name: content, dtype: object"
      ]
     },
     "execution_count": 10,
     "metadata": {},
     "output_type": "execute_result"
    }
   ],
   "source": [
    "# Sample of contents\n",
    "data['content'][0:4]"
   ]
  },
  {
   "cell_type": "code",
   "execution_count": 11,
   "metadata": {},
   "outputs": [
    {
     "data": {
      "text/plain": [
       "'O jogo está ficando cada vez mais mercenário, ainda mais com a vinda desse passe futuro que tem dois níveis de compra e o primeiro custa quase R$40... Tem muitos erros no jogo que são ignorados, muitos personagens que foram esquecidos e o pior se você não gasta dinheiro com o jogo você não vai muito longe e fica chato depois de um tempo ainda mais com esse passe futuro que você teria que gastar mais de R$150... Se continuar eu irei parar de jogar e gastar com o jogo'"
      ]
     },
     "execution_count": 11,
     "metadata": {},
     "output_type": "execute_result"
    }
   ],
   "source": [
    "data['content'][0]"
   ]
  },
  {
   "cell_type": "code",
   "execution_count": 19,
   "metadata": {},
   "outputs": [
    {
     "data": {
      "text/plain": [
       "'Não estou gostando mais do jogo, porquê os aquários não estão desbloqueando, mesmo já tendo completado as estrelas dos anteriores. Além disso, aparece que está faltando estrelas para completar, sendo que eu já completei. Por isso, queria saber o que está acontecendo, estou pensando seriamente em desinstalar. Por favor, Alguém me responde!'"
      ]
     },
     "execution_count": 19,
     "metadata": {},
     "output_type": "execute_result"
    }
   ],
   "source": [
    "data['content'][1000]"
   ]
  },
  {
   "cell_type": "code",
   "execution_count": 20,
   "metadata": {},
   "outputs": [
    {
     "data": {
      "text/plain": [
       "'Durante alguns tempos muito boa, hoje quis jogar e ao abrir para meu espanto puseram me a começar do zero. Acho isso completamente inconcebível..... Agora voltei a tentar e voltou a aparecer tudo certo. Vou ficar a analisar durante um tempo para ver o comportamento.'"
      ]
     },
     "execution_count": 20,
     "metadata": {},
     "output_type": "execute_result"
    }
   ],
   "source": [
    "data['content'][4000]"
   ]
  },
  {
   "cell_type": "code",
   "execution_count": 21,
   "metadata": {},
   "outputs": [
    {
     "data": {
      "text/plain": [
       "'Muito bom. O que falta é opção de outros idiomas. Foi o principal motivo de faltar a 5ª estrela na minha avaliação. Ainda estou no começo do jogo, mas a jogabilidade é simples e intuitiva. O que atrapalha um pouco é que as vezes a gente tenta arrastar a tela e acaba por deslocar um personagem p outro lugar, as vezes sem perceber, podendo prejudicar bastante a evolução do jogo.'"
      ]
     },
     "execution_count": 21,
     "metadata": {},
     "output_type": "execute_result"
    }
   ],
   "source": [
    "data['content'][6000]"
   ]
  },
  {
   "cell_type": "code",
   "execution_count": 22,
   "metadata": {},
   "outputs": [],
   "source": [
    "# Export data\n",
    "data.to_csv('~/Downloads/most_relevant_comments.csv')"
   ]
  },
  {
   "cell_type": "code",
   "execution_count": 23,
   "metadata": {},
   "outputs": [],
   "source": [
    "# Export sampled data\n",
    "data_sampled = data.sample(n=100, random_state=123456)\n",
    "data_sampled.to_csv('~/Downloads/most_relevant_comments_sampled.csv')"
   ]
  },
  {
   "cell_type": "code",
   "execution_count": 10,
   "metadata": {},
   "outputs": [
    {
     "data": {
      "text/html": [
       "<div>\n",
       "<style scoped>\n",
       "    .dataframe tbody tr th:only-of-type {\n",
       "        vertical-align: middle;\n",
       "    }\n",
       "\n",
       "    .dataframe tbody tr th {\n",
       "        vertical-align: top;\n",
       "    }\n",
       "\n",
       "    .dataframe thead th {\n",
       "        text-align: right;\n",
       "    }\n",
       "</style>\n",
       "<table border=\"1\" class=\"dataframe\">\n",
       "  <thead>\n",
       "    <tr style=\"text-align: right;\">\n",
       "      <th></th>\n",
       "      <th>Unnamed: 0</th>\n",
       "      <th>userName</th>\n",
       "      <th>userImage</th>\n",
       "      <th>content</th>\n",
       "      <th>score</th>\n",
       "      <th>thumbsUpCount</th>\n",
       "      <th>reviewCreatedVersion</th>\n",
       "      <th>at</th>\n",
       "      <th>file_origin</th>\n",
       "    </tr>\n",
       "  </thead>\n",
       "  <tbody>\n",
       "    <tr>\n",
       "      <th>13995</th>\n",
       "      <td>95</td>\n",
       "      <td>Celita Santos</td>\n",
       "      <td>https://lh3.googleusercontent.com/-dqJLHv_A4pQ...</td>\n",
       "      <td>O jogo é muito bom , mais eu acho que poderia ...</td>\n",
       "      <td>3</td>\n",
       "      <td>18</td>\n",
       "      <td>1.12.0</td>\n",
       "      <td>2019-12-28 13:09:53</td>\n",
       "      <td>../../var/data/com.imangi.templerun/MOST_RELEV...</td>\n",
       "    </tr>\n",
       "    <tr>\n",
       "      <th>13996</th>\n",
       "      <td>96</td>\n",
       "      <td>Edivania Santos</td>\n",
       "      <td>https://lh3.googleusercontent.com/-Y1Irx78dZeE...</td>\n",
       "      <td>Odiei esse jogo é muito ruim o dinheiro que vo...</td>\n",
       "      <td>1</td>\n",
       "      <td>1397</td>\n",
       "      <td>1.12.0</td>\n",
       "      <td>2019-12-23 12:59:56</td>\n",
       "      <td>../../var/data/com.imangi.templerun/MOST_RELEV...</td>\n",
       "    </tr>\n",
       "    <tr>\n",
       "      <th>13997</th>\n",
       "      <td>97</td>\n",
       "      <td>Eduarda Cassandra</td>\n",
       "      <td>https://lh3.googleusercontent.com/a-/AOh14GiSm...</td>\n",
       "      <td>É bom sim , só que , tem vezes que não pega a ...</td>\n",
       "      <td>4</td>\n",
       "      <td>11</td>\n",
       "      <td>1.12.0</td>\n",
       "      <td>2020-01-10 14:38:54</td>\n",
       "      <td>../../var/data/com.imangi.templerun/MOST_RELEV...</td>\n",
       "    </tr>\n",
       "    <tr>\n",
       "      <th>13998</th>\n",
       "      <td>98</td>\n",
       "      <td>Adriana Motta</td>\n",
       "      <td>https://lh3.googleusercontent.com/a-/AOh14Gjdy...</td>\n",
       "      <td>Muito bom . Precisa de bastante concentração. ...</td>\n",
       "      <td>5</td>\n",
       "      <td>24</td>\n",
       "      <td>1.12.0</td>\n",
       "      <td>2019-12-29 14:17:14</td>\n",
       "      <td>../../var/data/com.imangi.templerun/MOST_RELEV...</td>\n",
       "    </tr>\n",
       "    <tr>\n",
       "      <th>13999</th>\n",
       "      <td>99</td>\n",
       "      <td>yLucKaSs Canal Segundario</td>\n",
       "      <td>https://lh3.googleusercontent.com/-Hi68L8FpECU...</td>\n",
       "      <td>Eu do um toque no celular e da ads</td>\n",
       "      <td>1</td>\n",
       "      <td>0</td>\n",
       "      <td>1.13.0</td>\n",
       "      <td>2020-03-28 22:20:52</td>\n",
       "      <td>../../var/data/com.imangi.templerun/MOST_RELEV...</td>\n",
       "    </tr>\n",
       "  </tbody>\n",
       "</table>\n",
       "</div>"
      ],
      "text/plain": [
       "       Unnamed: 0                   userName  \\\n",
       "13995          95              Celita Santos   \n",
       "13996          96            Edivania Santos   \n",
       "13997          97          Eduarda Cassandra   \n",
       "13998          98              Adriana Motta   \n",
       "13999          99  yLucKaSs Canal Segundario   \n",
       "\n",
       "                                               userImage  \\\n",
       "13995  https://lh3.googleusercontent.com/-dqJLHv_A4pQ...   \n",
       "13996  https://lh3.googleusercontent.com/-Y1Irx78dZeE...   \n",
       "13997  https://lh3.googleusercontent.com/a-/AOh14GiSm...   \n",
       "13998  https://lh3.googleusercontent.com/a-/AOh14Gjdy...   \n",
       "13999  https://lh3.googleusercontent.com/-Hi68L8FpECU...   \n",
       "\n",
       "                                                 content  score  \\\n",
       "13995  O jogo é muito bom , mais eu acho que poderia ...      3   \n",
       "13996  Odiei esse jogo é muito ruim o dinheiro que vo...      1   \n",
       "13997  É bom sim , só que , tem vezes que não pega a ...      4   \n",
       "13998  Muito bom . Precisa de bastante concentração. ...      5   \n",
       "13999                 Eu do um toque no celular e da ads      1   \n",
       "\n",
       "       thumbsUpCount reviewCreatedVersion                   at  \\\n",
       "13995             18               1.12.0  2019-12-28 13:09:53   \n",
       "13996           1397               1.12.0  2019-12-23 12:59:56   \n",
       "13997             11               1.12.0  2020-01-10 14:38:54   \n",
       "13998             24               1.12.0  2019-12-29 14:17:14   \n",
       "13999              0               1.13.0  2020-03-28 22:20:52   \n",
       "\n",
       "                                             file_origin  \n",
       "13995  ../../var/data/com.imangi.templerun/MOST_RELEV...  \n",
       "13996  ../../var/data/com.imangi.templerun/MOST_RELEV...  \n",
       "13997  ../../var/data/com.imangi.templerun/MOST_RELEV...  \n",
       "13998  ../../var/data/com.imangi.templerun/MOST_RELEV...  \n",
       "13999  ../../var/data/com.imangi.templerun/MOST_RELEV...  "
      ]
     },
     "execution_count": 10,
     "metadata": {},
     "output_type": "execute_result"
    }
   ],
   "source": [
    "data.tail()"
   ]
  },
  {
   "cell_type": "code",
   "execution_count": 13,
   "metadata": {},
   "outputs": [
    {
     "data": {
      "text/plain": [
       "'https://lh3.googleusercontent.com/-HRy8jfqskPk/AAAAAAAAAAI/AAAAAAAAAAA/AAKWJJO4P5BGD022DB7-QHF46QKS3TFqSw/photo.jpg'"
      ]
     },
     "execution_count": 13,
     "metadata": {},
     "output_type": "execute_result"
    }
   ],
   "source": [
    "data['userImage'][100]"
   ]
  },
  {
   "cell_type": "code",
   "execution_count": null,
   "metadata": {},
   "outputs": [],
   "source": []
  }
 ],
 "metadata": {
  "kernelspec": {
   "display_name": "Python 3",
   "language": "python",
   "name": "python3"
  },
  "language_info": {
   "codemirror_mode": {
    "name": "ipython",
    "version": 3
   },
   "file_extension": ".py",
   "mimetype": "text/x-python",
   "name": "python",
   "nbconvert_exporter": "python",
   "pygments_lexer": "ipython3",
   "version": "3.8.2"
  }
 },
 "nbformat": 4,
 "nbformat_minor": 4
}
