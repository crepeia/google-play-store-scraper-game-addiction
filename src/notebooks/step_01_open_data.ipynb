{
 "cells": [
  {
   "cell_type": "code",
   "execution_count": 1,
   "metadata": {},
   "outputs": [],
   "source": [
    "import glob\n",
    "import pandas as pd\n",
    "import re\n",
    "import os\n",
    "\n",
    "def create_list_of_app_ids():\n",
    "    path = '/home/henriquegomide/videogame-addiction-play-store/var/data'\n",
    "    files = glob.glob(path + '/*.csv')\n",
    "    files_list = []\n",
    "    for filename in files:\n",
    "        df = pd.read_csv(filename, index_col=None, header=0)\n",
    "        files_list.append(df)\n",
    "        \n",
    "    data = pd.concat(files_list, axis=0, ignore_index=True)\n",
    "    return(data)"
   ]
  },
  {
   "cell_type": "code",
   "execution_count": 2,
   "metadata": {},
   "outputs": [],
   "source": [
    "# Description of APP's\n",
    "data = create_list_of_app_ids()"
   ]
  },
  {
   "cell_type": "code",
   "execution_count": 3,
   "metadata": {},
   "outputs": [
    {
     "data": {
      "text/html": [
       "<div>\n",
       "<style scoped>\n",
       "    .dataframe tbody tr th:only-of-type {\n",
       "        vertical-align: middle;\n",
       "    }\n",
       "\n",
       "    .dataframe tbody tr th {\n",
       "        vertical-align: top;\n",
       "    }\n",
       "\n",
       "    .dataframe thead th {\n",
       "        text-align: right;\n",
       "    }\n",
       "</style>\n",
       "<table border=\"1\" class=\"dataframe\">\n",
       "  <thead>\n",
       "    <tr style=\"text-align: right;\">\n",
       "      <th></th>\n",
       "      <th>Unnamed: 0</th>\n",
       "      <th>rank</th>\n",
       "      <th>title</th>\n",
       "      <th>icon</th>\n",
       "      <th>↓Total ratings</th>\n",
       "      <th>Installs</th>\n",
       "      <th>Average rating</th>\n",
       "      <th>Growth (30 days)</th>\n",
       "      <th>Growth (60 days)</th>\n",
       "      <th>Price</th>\n",
       "      <th>app_id</th>\n",
       "      <th>category</th>\n",
       "    </tr>\n",
       "  </thead>\n",
       "  <tbody>\n",
       "    <tr>\n",
       "      <th>0</th>\n",
       "      <td>0</td>\n",
       "      <td>1.0</td>\n",
       "      <td>\\nZynga Poker – Free Texas Holdem Online Card ...</td>\n",
       "      <td>NaN</td>\n",
       "      <td>2,387,346</td>\n",
       "      <td>50.0 M</td>\n",
       "      <td>4.46</td>\n",
       "      <td>0.7%</td>\n",
       "      <td>1.4%</td>\n",
       "      <td>Free</td>\n",
       "      <td>com.zynga.livepoker</td>\n",
       "      <td>GAME_CASINO</td>\n",
       "    </tr>\n",
       "    <tr>\n",
       "      <th>1</th>\n",
       "      <td>1</td>\n",
       "      <td>2.0</td>\n",
       "      <td>\\nSlotomania™ Slots Casino: Vegas Slot Machine...</td>\n",
       "      <td>NaN</td>\n",
       "      <td>1,617,779</td>\n",
       "      <td>50.0 M</td>\n",
       "      <td>4.37</td>\n",
       "      <td>0.8%</td>\n",
       "      <td>1.6%</td>\n",
       "      <td>Free</td>\n",
       "      <td>air.com.playtika.slotomania</td>\n",
       "      <td>GAME_CASINO</td>\n",
       "    </tr>\n",
       "    <tr>\n",
       "      <th>2</th>\n",
       "      <td>2</td>\n",
       "      <td>3.0</td>\n",
       "      <td>\\nTeen Patti by Octro - Indian Poker Card Game\\n</td>\n",
       "      <td>NaN</td>\n",
       "      <td>1,412,462</td>\n",
       "      <td>50.0 M</td>\n",
       "      <td>4.44</td>\n",
       "      <td>0.2%</td>\n",
       "      <td>0.5%</td>\n",
       "      <td>Free</td>\n",
       "      <td>com.octro.teenpatti</td>\n",
       "      <td>GAME_CASINO</td>\n",
       "    </tr>\n",
       "    <tr>\n",
       "      <th>3</th>\n",
       "      <td>3</td>\n",
       "      <td>4.0</td>\n",
       "      <td>\\nCoin Dozer: Sweepstakes\\n</td>\n",
       "      <td>NaN</td>\n",
       "      <td>1,379,260</td>\n",
       "      <td>50.0 M</td>\n",
       "      <td>4.59</td>\n",
       "      <td>0.8%</td>\n",
       "      <td>1.6%</td>\n",
       "      <td>Free</td>\n",
       "      <td>com.leftover.CoinDozer</td>\n",
       "      <td>GAME_CASINO</td>\n",
       "    </tr>\n",
       "    <tr>\n",
       "      <th>4</th>\n",
       "      <td>4</td>\n",
       "      <td>5.0</td>\n",
       "      <td>\\nSlots: House of Fun™️ Casino Slot Machine Ga...</td>\n",
       "      <td>NaN</td>\n",
       "      <td>1,254,424</td>\n",
       "      <td>10.0 M</td>\n",
       "      <td>4.56</td>\n",
       "      <td>1.2%</td>\n",
       "      <td>2.4%</td>\n",
       "      <td>Free</td>\n",
       "      <td>com.pacificinteractive.HouseOfFun</td>\n",
       "      <td>GAME_CASINO</td>\n",
       "    </tr>\n",
       "  </tbody>\n",
       "</table>\n",
       "</div>"
      ],
      "text/plain": [
       "   Unnamed: 0  rank                                              title  icon  \\\n",
       "0           0   1.0  \\nZynga Poker – Free Texas Holdem Online Card ...   NaN   \n",
       "1           1   2.0  \\nSlotomania™ Slots Casino: Vegas Slot Machine...   NaN   \n",
       "2           2   3.0   \\nTeen Patti by Octro - Indian Poker Card Game\\n   NaN   \n",
       "3           3   4.0                        \\nCoin Dozer: Sweepstakes\\n   NaN   \n",
       "4           4   5.0  \\nSlots: House of Fun™️ Casino Slot Machine Ga...   NaN   \n",
       "\n",
       "  ↓Total ratings Installs  Average rating Growth (30 days) Growth (60 days)  \\\n",
       "0      2,387,346   50.0 M            4.46             0.7%             1.4%   \n",
       "1      1,617,779   50.0 M            4.37             0.8%             1.6%   \n",
       "2      1,412,462   50.0 M            4.44             0.2%             0.5%   \n",
       "3      1,379,260   50.0 M            4.59             0.8%             1.6%   \n",
       "4      1,254,424   10.0 M            4.56             1.2%             2.4%   \n",
       "\n",
       "  Price                             app_id     category  \n",
       "0  Free                com.zynga.livepoker  GAME_CASINO  \n",
       "1  Free        air.com.playtika.slotomania  GAME_CASINO  \n",
       "2  Free                com.octro.teenpatti  GAME_CASINO  \n",
       "3  Free             com.leftover.CoinDozer  GAME_CASINO  \n",
       "4  Free  com.pacificinteractive.HouseOfFun  GAME_CASINO  "
      ]
     },
     "execution_count": 3,
     "metadata": {},
     "output_type": "execute_result"
    }
   ],
   "source": [
    "data.head()"
   ]
  },
  {
   "cell_type": "code",
   "execution_count": 4,
   "metadata": {},
   "outputs": [],
   "source": [
    "# Select only the top 10 APPs for each category\n",
    "df = data[data['rank'] < 11]\n",
    "list_of_ids = df['app_id']"
   ]
  },
  {
   "cell_type": "code",
   "execution_count": 5,
   "metadata": {},
   "outputs": [],
   "source": [
    "# Open Comments data that were scraped as most relevant\n",
    "list_of_paths = []\n",
    "for app in list_of_ids:\n",
    "    paths = '/home/henriquegomide/videogame-addiction-play-store/var/data/{0}'.format(app)\n",
    "    list_of_paths.append(paths)\n",
    "    \n",
    "list_of_files = []\n",
    "for path in list_of_paths:\n",
    "    files = glob.glob(path + '/MOST_RELEVANT*.csv')\n",
    "    list_of_files.append(files)\n",
    "    \n",
    "list_of_files = list(filter(None, list_of_files))\n",
    "list_of_files = [y for x in list_of_files for y in x]\n",
    "\n",
    "df_list = []\n",
    "for filename in list_of_files:\n",
    "    df = pd.read_csv(filename, index_col=None, header=0)\n",
    "    df['file_origin'] = filename\n",
    "    df_list.append(df)\n",
    "\n",
    "data = pd.concat(df_list, axis=0, ignore_index=True)"
   ]
  },
  {
   "cell_type": "code",
   "execution_count": 6,
   "metadata": {},
   "outputs": [
    {
     "data": {
      "text/plain": [
       "(14000, 9)"
      ]
     },
     "execution_count": 6,
     "metadata": {},
     "output_type": "execute_result"
    }
   ],
   "source": [
    "data.shape"
   ]
  },
  {
   "cell_type": "code",
   "execution_count": 22,
   "metadata": {},
   "outputs": [
    {
     "data": {
      "text/plain": [
       "['Unnamed: 0',\n",
       " 'userName',\n",
       " 'userImage',\n",
       " 'content',\n",
       " 'score',\n",
       " 'thumbsUpCount',\n",
       " 'reviewCreatedVersion',\n",
       " 'at',\n",
       " 'file_origin']"
      ]
     },
     "execution_count": 22,
     "metadata": {},
     "output_type": "execute_result"
    }
   ],
   "source": [
    "list(data)"
   ]
  },
  {
   "cell_type": "code",
   "execution_count": 23,
   "metadata": {},
   "outputs": [
    {
     "data": {
      "text/plain": [
       "(14000, 9)"
      ]
     },
     "execution_count": 23,
     "metadata": {},
     "output_type": "execute_result"
    }
   ],
   "source": [
    "data.drop_duplicates(['content', 'at']).shape"
   ]
  },
  {
   "cell_type": "code",
   "execution_count": 24,
   "metadata": {},
   "outputs": [],
   "source": [
    "# Get application id\n",
    "data['app_id'] = data['file_origin'].str.extract(pat='/home/henriquegomide/videogame-addiction-play-store/var/data/(.*)/MOST_RELEVANT.csv')"
   ]
  },
  {
   "cell_type": "code",
   "execution_count": 25,
   "metadata": {},
   "outputs": [
    {
     "data": {
      "text/plain": [
       "0    Um bom tempo sem ganhar, a não ser brindes. Jo...\n",
       "1    Já havia notado que o jogo é tendencioso. Mas ...\n",
       "2    Dei apenas 1 pq não tinha como dar nenhuma, pe...\n",
       "3    Na minha opinião, é pouco realista em relação ...\n",
       "Name: content, dtype: object"
      ]
     },
     "execution_count": 25,
     "metadata": {},
     "output_type": "execute_result"
    }
   ],
   "source": [
    "# Sample of contents\n",
    "data['content'][0:4]"
   ]
  },
  {
   "cell_type": "code",
   "execution_count": 11,
   "metadata": {},
   "outputs": [
    {
     "data": {
      "text/plain": [
       "'Um bom tempo sem ganhar, a não ser brindes. Jogo está deixando a desejar a cada dia que passa, nitidamente manipulado, principalmente em apostas altas, fora o monte de robôs que o jogo aparenta ter. Vocês que acham que pagar lhe darão privilégios, tá muito enganado, a 15 dias +/- fiz uma compra de 600K , e já me levaram 618K nesse período, 2 vitórias somente. Esse jogo é totalmente desonesto, e quem é responsável por esse Play Store é conivente com tudo isso. JOGO LADRÃO, DESONESTO E MANIPULADO.'"
      ]
     },
     "execution_count": 11,
     "metadata": {},
     "output_type": "execute_result"
    }
   ],
   "source": [
    "data['content'][0]"
   ]
  },
  {
   "cell_type": "code",
   "execution_count": 12,
   "metadata": {},
   "outputs": [
    {
     "data": {
      "text/plain": [
       "'Esse jogo é muito legal, por isso que eu dei cinco estrelas por causa que um jogo muito legal, eu amo o jogo da Ângela. Ela é super hiper mega legal super legal mesmo, só que ela deveria dar esse jogo poderia melhorar numa coisa que a gente poder tipo assim. A gente poder conversar com tu mesmo, se a pessoa não tem um jogo tipo ela poder ligar para então e também os jogos que não que estão bloqueados que só tem só pode jogar assim que vai no nosso celular. Isso é injusto. Isso é injusto mesmo en'"
      ]
     },
     "execution_count": 12,
     "metadata": {},
     "output_type": "execute_result"
    }
   ],
   "source": [
    "data['content'][1000]"
   ]
  },
  {
   "cell_type": "code",
   "execution_count": 13,
   "metadata": {},
   "outputs": [
    {
     "data": {
      "text/plain": [
       "'O jogo é bom para entreter. Mas o que dificulta demais é que é tudo americano. Algumas marcas não vemos por aqui (Brasil). As dicas em inglês não ajudam em nada se não soubermos falar a língua, ficamos dependentes de um tradutor online. Se não fosse isso tudo, daria 5 estrelas !!!'"
      ]
     },
     "execution_count": 13,
     "metadata": {},
     "output_type": "execute_result"
    }
   ],
   "source": [
    "data['content'][4000]"
   ]
  },
  {
   "cell_type": "code",
   "execution_count": 14,
   "metadata": {},
   "outputs": [
    {
     "data": {
      "text/plain": [
       "'O jogo é excelente!!! O gráfico é ótimo, a jogabilidade é incrível e as armas são fantásticas. Mas, focando no quesito de subir no ranking, vocês poderiam utilizar todos os modos para subir no ranking. Outra observação seria que vocês adicionassem o modo de terceira pessoa nos outros modos de jogo, tanto, multiplayer como zumbi ou jogo de armas. Não tenho nenhuma crítica a fazer com relação ao jogo porque está excelente; só opiniões mesmo. Parabéns a equipe.👏👏'"
      ]
     },
     "execution_count": 14,
     "metadata": {},
     "output_type": "execute_result"
    }
   ],
   "source": [
    "data['content'][6000]"
   ]
  },
  {
   "cell_type": "code",
   "execution_count": 12,
   "metadata": {},
   "outputs": [],
   "source": [
    "# Export data\n",
    "data.to_csv('/home/henriquegomide/videogame-addiction-play-store/var/data/most_relevant_comments.csv')"
   ]
  },
  {
   "cell_type": "code",
   "execution_count": 24,
   "metadata": {},
   "outputs": [
    {
     "data": {
      "text/html": [
       "<div>\n",
       "<style scoped>\n",
       "    .dataframe tbody tr th:only-of-type {\n",
       "        vertical-align: middle;\n",
       "    }\n",
       "\n",
       "    .dataframe tbody tr th {\n",
       "        vertical-align: top;\n",
       "    }\n",
       "\n",
       "    .dataframe thead th {\n",
       "        text-align: right;\n",
       "    }\n",
       "</style>\n",
       "<table border=\"1\" class=\"dataframe\">\n",
       "  <thead>\n",
       "    <tr style=\"text-align: right;\">\n",
       "      <th></th>\n",
       "      <th>Unnamed: 0</th>\n",
       "      <th>userName</th>\n",
       "      <th>userImage</th>\n",
       "      <th>content</th>\n",
       "      <th>score</th>\n",
       "      <th>thumbsUpCount</th>\n",
       "      <th>reviewCreatedVersion</th>\n",
       "      <th>at</th>\n",
       "      <th>file_origin</th>\n",
       "    </tr>\n",
       "  </thead>\n",
       "  <tbody>\n",
       "    <tr>\n",
       "      <th>8347</th>\n",
       "      <td>47</td>\n",
       "      <td>Junior Cavalcante</td>\n",
       "      <td>https://lh3.googleusercontent.com/-7uyP9D16eP0...</td>\n",
       "      <td>Boa tarde à todos. Gostaria de informar um oco...</td>\n",
       "      <td>3</td>\n",
       "      <td>145</td>\n",
       "      <td>1.113.0</td>\n",
       "      <td>2020-01-01 14:00:00</td>\n",
       "      <td>/home/henriquegomide/videogame-addiction-play-...</td>\n",
       "    </tr>\n",
       "    <tr>\n",
       "      <th>2413</th>\n",
       "      <td>13</td>\n",
       "      <td>Extreme Master</td>\n",
       "      <td>https://lh3.googleusercontent.com/a-/AAuE7mDFF...</td>\n",
       "      <td>O jogo é muito bom bons graficos sempre fazend...</td>\n",
       "      <td>4</td>\n",
       "      <td>4</td>\n",
       "      <td>9.2.16</td>\n",
       "      <td>2020-01-22 11:17:36</td>\n",
       "      <td>/home/henriquegomide/videogame-addiction-play-...</td>\n",
       "    </tr>\n",
       "    <tr>\n",
       "      <th>10956</th>\n",
       "      <td>56</td>\n",
       "      <td>Iago Ximango</td>\n",
       "      <td>https://lh3.googleusercontent.com/-G-WOEjxm2ig...</td>\n",
       "      <td>O jogo sempre foi muito bom, mas depois desse ...</td>\n",
       "      <td>3</td>\n",
       "      <td>3</td>\n",
       "      <td>1.10.1</td>\n",
       "      <td>2019-01-18 22:31:49</td>\n",
       "      <td>/home/henriquegomide/videogame-addiction-play-...</td>\n",
       "    </tr>\n",
       "    <tr>\n",
       "      <th>1152</th>\n",
       "      <td>52</td>\n",
       "      <td>josiel victor</td>\n",
       "      <td>https://lh3.googleusercontent.com/-gHnNgmEW0kM...</td>\n",
       "      <td>Acho meio injusto por alguem de nivel 40 com o...</td>\n",
       "      <td>4</td>\n",
       "      <td>9</td>\n",
       "      <td>1_45_111</td>\n",
       "      <td>2019-12-26 10:03:12</td>\n",
       "      <td>/home/henriquegomide/videogame-addiction-play-...</td>\n",
       "    </tr>\n",
       "    <tr>\n",
       "      <th>4946</th>\n",
       "      <td>46</td>\n",
       "      <td>Mónica Meira</td>\n",
       "      <td>https://lh3.googleusercontent.com/-4827pfJVfrM...</td>\n",
       "      <td>O jogo é muito bom e tal mas a razão por eu só...</td>\n",
       "      <td>4</td>\n",
       "      <td>24</td>\n",
       "      <td>2.2.2.1</td>\n",
       "      <td>2019-07-08 11:27:33</td>\n",
       "      <td>/home/henriquegomide/videogame-addiction-play-...</td>\n",
       "    </tr>\n",
       "    <tr>\n",
       "      <th>...</th>\n",
       "      <td>...</td>\n",
       "      <td>...</td>\n",
       "      <td>...</td>\n",
       "      <td>...</td>\n",
       "      <td>...</td>\n",
       "      <td>...</td>\n",
       "      <td>...</td>\n",
       "      <td>...</td>\n",
       "      <td>...</td>\n",
       "    </tr>\n",
       "    <tr>\n",
       "      <th>7648</th>\n",
       "      <td>48</td>\n",
       "      <td>Paçoca</td>\n",
       "      <td>https://lh3.googleusercontent.com/a-/AAuE7mCnR...</td>\n",
       "      <td>divertido, de estratégia e sempre com coisas n...</td>\n",
       "      <td>5</td>\n",
       "      <td>0</td>\n",
       "      <td>1.13.25</td>\n",
       "      <td>2020-01-20 16:53:46</td>\n",
       "      <td>/home/henriquegomide/videogame-addiction-play-...</td>\n",
       "    </tr>\n",
       "    <tr>\n",
       "      <th>23</th>\n",
       "      <td>23</td>\n",
       "      <td>Gabriela Dantas</td>\n",
       "      <td>https://lh3.googleusercontent.com/a-/AAuE7mCgD...</td>\n",
       "      <td>Está travando muito. Em apenas uma semana inst...</td>\n",
       "      <td>2</td>\n",
       "      <td>0</td>\n",
       "      <td>21.85</td>\n",
       "      <td>2020-02-09 22:13:17</td>\n",
       "      <td>/home/henriquegomide/videogame-addiction-play-...</td>\n",
       "    </tr>\n",
       "    <tr>\n",
       "      <th>2651</th>\n",
       "      <td>51</td>\n",
       "      <td>Marcelo Gastão Boff Jacomel</td>\n",
       "      <td>https://lh3.googleusercontent.com/-5-pFfSltdLw...</td>\n",
       "      <td>Tem que ter grana ou paciência , pra conseguir...</td>\n",
       "      <td>2</td>\n",
       "      <td>2</td>\n",
       "      <td>2.24.3</td>\n",
       "      <td>2019-12-26 21:30:13</td>\n",
       "      <td>/home/henriquegomide/videogame-addiction-play-...</td>\n",
       "    </tr>\n",
       "    <tr>\n",
       "      <th>2537</th>\n",
       "      <td>37</td>\n",
       "      <td>Lucas Gah</td>\n",
       "      <td>https://lh3.googleusercontent.com/-HaCGjvvFbt0...</td>\n",
       "      <td>Divertido e fácil de aprender</td>\n",
       "      <td>5</td>\n",
       "      <td>0</td>\n",
       "      <td>1.4.10</td>\n",
       "      <td>2020-01-26 02:12:21</td>\n",
       "      <td>/home/henriquegomide/videogame-addiction-play-...</td>\n",
       "    </tr>\n",
       "    <tr>\n",
       "      <th>2076</th>\n",
       "      <td>76</td>\n",
       "      <td>Giovanni Mattos</td>\n",
       "      <td>https://lh3.googleusercontent.com/a-/AAuE7mDzJ...</td>\n",
       "      <td>Tá muito bugado na guerra do navio vc destrói ...</td>\n",
       "      <td>2</td>\n",
       "      <td>3</td>\n",
       "      <td>40.93</td>\n",
       "      <td>2019-12-19 10:23:19</td>\n",
       "      <td>/home/henriquegomide/videogame-addiction-play-...</td>\n",
       "    </tr>\n",
       "  </tbody>\n",
       "</table>\n",
       "<p>100 rows × 9 columns</p>\n",
       "</div>"
      ],
      "text/plain": [
       "       Unnamed: 0                     userName  \\\n",
       "8347           47            Junior Cavalcante   \n",
       "2413           13               Extreme Master   \n",
       "10956          56                 Iago Ximango   \n",
       "1152           52                josiel victor   \n",
       "4946           46                 Mónica Meira   \n",
       "...           ...                          ...   \n",
       "7648           48                       Paçoca   \n",
       "23             23              Gabriela Dantas   \n",
       "2651           51  Marcelo Gastão Boff Jacomel   \n",
       "2537           37                    Lucas Gah   \n",
       "2076           76              Giovanni Mattos   \n",
       "\n",
       "                                               userImage  \\\n",
       "8347   https://lh3.googleusercontent.com/-7uyP9D16eP0...   \n",
       "2413   https://lh3.googleusercontent.com/a-/AAuE7mDFF...   \n",
       "10956  https://lh3.googleusercontent.com/-G-WOEjxm2ig...   \n",
       "1152   https://lh3.googleusercontent.com/-gHnNgmEW0kM...   \n",
       "4946   https://lh3.googleusercontent.com/-4827pfJVfrM...   \n",
       "...                                                  ...   \n",
       "7648   https://lh3.googleusercontent.com/a-/AAuE7mCnR...   \n",
       "23     https://lh3.googleusercontent.com/a-/AAuE7mCgD...   \n",
       "2651   https://lh3.googleusercontent.com/-5-pFfSltdLw...   \n",
       "2537   https://lh3.googleusercontent.com/-HaCGjvvFbt0...   \n",
       "2076   https://lh3.googleusercontent.com/a-/AAuE7mDzJ...   \n",
       "\n",
       "                                                 content  score  \\\n",
       "8347   Boa tarde à todos. Gostaria de informar um oco...      3   \n",
       "2413   O jogo é muito bom bons graficos sempre fazend...      4   \n",
       "10956  O jogo sempre foi muito bom, mas depois desse ...      3   \n",
       "1152   Acho meio injusto por alguem de nivel 40 com o...      4   \n",
       "4946   O jogo é muito bom e tal mas a razão por eu só...      4   \n",
       "...                                                  ...    ...   \n",
       "7648   divertido, de estratégia e sempre com coisas n...      5   \n",
       "23     Está travando muito. Em apenas uma semana inst...      2   \n",
       "2651   Tem que ter grana ou paciência , pra conseguir...      2   \n",
       "2537                       Divertido e fácil de aprender      5   \n",
       "2076   Tá muito bugado na guerra do navio vc destrói ...      2   \n",
       "\n",
       "       thumbsUpCount reviewCreatedVersion                   at  \\\n",
       "8347             145              1.113.0  2020-01-01 14:00:00   \n",
       "2413               4               9.2.16  2020-01-22 11:17:36   \n",
       "10956              3               1.10.1  2019-01-18 22:31:49   \n",
       "1152               9             1_45_111  2019-12-26 10:03:12   \n",
       "4946              24              2.2.2.1  2019-07-08 11:27:33   \n",
       "...              ...                  ...                  ...   \n",
       "7648               0              1.13.25  2020-01-20 16:53:46   \n",
       "23                 0                21.85  2020-02-09 22:13:17   \n",
       "2651               2               2.24.3  2019-12-26 21:30:13   \n",
       "2537               0               1.4.10  2020-01-26 02:12:21   \n",
       "2076               3                40.93  2019-12-19 10:23:19   \n",
       "\n",
       "                                             file_origin  \n",
       "8347   /home/henriquegomide/videogame-addiction-play-...  \n",
       "2413   /home/henriquegomide/videogame-addiction-play-...  \n",
       "10956  /home/henriquegomide/videogame-addiction-play-...  \n",
       "1152   /home/henriquegomide/videogame-addiction-play-...  \n",
       "4946   /home/henriquegomide/videogame-addiction-play-...  \n",
       "...                                                  ...  \n",
       "7648   /home/henriquegomide/videogame-addiction-play-...  \n",
       "23     /home/henriquegomide/videogame-addiction-play-...  \n",
       "2651   /home/henriquegomide/videogame-addiction-play-...  \n",
       "2537   /home/henriquegomide/videogame-addiction-play-...  \n",
       "2076   /home/henriquegomide/videogame-addiction-play-...  \n",
       "\n",
       "[100 rows x 9 columns]"
      ]
     },
     "execution_count": 24,
     "metadata": {},
     "output_type": "execute_result"
    }
   ],
   "source": [
    "# Export sampled data\n",
    "data.sample(n=100, random_state=123456)\n",
    "data.to_csv('/home/henriquegomide/videogame-addiction-play-store/var/data/most_relevant_comments_sampled.csv')"
   ]
  },
  {
   "cell_type": "code",
   "execution_count": null,
   "metadata": {},
   "outputs": [],
   "source": []
  }
 ],
 "metadata": {
  "kernelspec": {
   "display_name": "Python 3",
   "language": "python",
   "name": "python3"
  },
  "language_info": {
   "codemirror_mode": {
    "name": "ipython",
    "version": 3
   },
   "file_extension": ".py",
   "mimetype": "text/x-python",
   "name": "python",
   "nbconvert_exporter": "python",
   "pygments_lexer": "ipython3",
   "version": "3.6.9"
  }
 },
 "nbformat": 4,
 "nbformat_minor": 4
}
